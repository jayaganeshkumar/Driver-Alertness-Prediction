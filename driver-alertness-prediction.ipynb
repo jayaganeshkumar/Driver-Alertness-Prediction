{
  "cells": [
    {
      "cell_type": "markdown",
      "metadata": {
        "id": "3jswsmEWS6Od"
      },
      "source": [
        "# zerotogbms-project"
      ]
    },
    {
      "cell_type": "markdown",
      "metadata": {
        "id": "cwjdoFjSS6Og"
      },
      "source": [
        "### Course Project - Real-World Machine Learning Model - Machine Learning with Python: Zero to GBMs"
      ]
    },
    {
      "cell_type": "markdown",
      "metadata": {
        "id": "2LKBp0IJS6Oh"
      },
      "source": [
        "## Problem Statement\n",
        "\n",
        "### The data for this challenge shows the results of a number of \"trials\", each one representing about 2 minutes of sequential data that are recorded every 100 ms during a driving session on the road or in a driving simulator.  The trials are samples from some 100 drivers of both genders, and of different ages and ethnic backgrounds. The files are structured as follows:\n",
        "\n",
        "### The first column is the Trial ID - each period of around 2 minutes of sequential data has a unique trial ID. For instance, the first 1210 observations represent sequential observations every 100ms, and therefore all have the same trial ID\n",
        "\n",
        "### The second column is the observation number - this is a sequentially increasing number within one trial ID\n",
        "### The third column has a value X for each row where\n",
        "### <br>               X = 1     if the driver is alert\n",
        "### <br>               X = 0     if the driver is not alert\n",
        "### <br>The next 8 columns with headers P1, P2 , …….., P8  represent physiological data;\n",
        "### <br>The next 11 columns with headers E1, E2, …….., E11  represent environmental data;\n",
        "### <br>The next 11 columns with headers V1, V2, …….., V11  represent vehicular  data\n",
        "\n",
        "### The file 'example_submission.csv' is an example of a submission file - your submission files should be in exactly the same format, with only values in the last column ('Prediction') different. Predictions are expected to be real numbers between 0 and 1 inclusive"
      ]
    },
    {
      "cell_type": "code",
      "execution_count": 1,
      "metadata": {
        "id": "lhPab6JRS6Oi"
      },
      "outputs": [],
      "source": [
        "!pip install jovian --upgrade --quiet"
      ]
    },
    {
      "cell_type": "code",
      "execution_count": 2,
      "metadata": {
        "id": "_PnG2a0gS6Ok"
      },
      "outputs": [],
      "source": [
        "!pip install pandas matplotlib seaborn --quiet "
      ]
    },
    {
      "cell_type": "code",
      "execution_count": 3,
      "metadata": {
        "id": "UG-SQCnHS6Ol"
      },
      "outputs": [],
      "source": [
        "!pip install opendatasets scikit-learn --upgrade --quiet"
      ]
    },
    {
      "cell_type": "code",
      "execution_count": 4,
      "metadata": {
        "id": "MRq0vA33S6Ol"
      },
      "outputs": [],
      "source": [
        "import os\n",
        "import jovian\n",
        "import opendatasets as od\n",
        "import seaborn as sns\n",
        "import pandas as pd\n",
        "import matplotlib.pyplot as plt\n",
        "\n",
        "pd.set_option(\"display.max_columns\", 120)\n",
        "pd.set_option(\"display.max_rows\", 120)"
      ]
    },
    {
      "cell_type": "code",
      "execution_count": 5,
      "metadata": {
        "id": "amKCeGgRS6Om"
      },
      "outputs": [],
      "source": [
        "from sklearn.tree import DecisionTreeClassifier"
      ]
    },
    {
      "cell_type": "code",
      "execution_count": 6,
      "metadata": {
        "id": "DdBjyPczS6Om"
      },
      "outputs": [],
      "source": [
        "from sklearn.ensemble import RandomForestClassifier"
      ]
    },
    {
      "cell_type": "code",
      "execution_count": 7,
      "metadata": {
        "id": "kzBTnNB4S6Om"
      },
      "outputs": [],
      "source": [
        "from sklearn.metrics import accuracy_score"
      ]
    },
    {
      "cell_type": "code",
      "execution_count": 8,
      "metadata": {
        "id": "aGe92AqOS6On"
      },
      "outputs": [],
      "source": [
        "from sklearn.tree import plot_tree"
      ]
    },
    {
      "cell_type": "code",
      "execution_count": 11,
      "metadata": {
        "id": "ZA2R-nOMS6Oo"
      },
      "outputs": [],
      "source": [
        "train = pd.read_csv('./stayalert/fordTrain.csv')\n",
        "test = pd.read_csv('./stayalert/fordTest.csv')"
      ]
    },
    {
      "cell_type": "code",
      "execution_count": 12,
      "metadata": {
        "colab": {
          "base_uri": "https://localhost:8080/",
          "height": 270
        },
        "id": "EPHOb-n3S6Oo",
        "outputId": "dc9821f8-a29e-4f9b-923f-fa5538da6213"
      },
      "outputs": [
        {
          "data": {
            "text/html": [
              "\n",
              "  <div id=\"df-70835478-1c16-4b8b-bf6f-a17982957aa0\">\n",
              "    <div class=\"colab-df-container\">\n",
              "      <div>\n",
              "<style scoped>\n",
              "    .dataframe tbody tr th:only-of-type {\n",
              "        vertical-align: middle;\n",
              "    }\n",
              "\n",
              "    .dataframe tbody tr th {\n",
              "        vertical-align: top;\n",
              "    }\n",
              "\n",
              "    .dataframe thead th {\n",
              "        text-align: right;\n",
              "    }\n",
              "</style>\n",
              "<table border=\"1\" class=\"dataframe\">\n",
              "  <thead>\n",
              "    <tr style=\"text-align: right;\">\n",
              "      <th></th>\n",
              "      <th>TrialID</th>\n",
              "      <th>ObsNum</th>\n",
              "      <th>IsAlert</th>\n",
              "      <th>P1</th>\n",
              "      <th>P2</th>\n",
              "      <th>P3</th>\n",
              "      <th>P4</th>\n",
              "      <th>P5</th>\n",
              "      <th>P6</th>\n",
              "      <th>P7</th>\n",
              "      <th>P8</th>\n",
              "      <th>E1</th>\n",
              "      <th>E2</th>\n",
              "      <th>E3</th>\n",
              "      <th>E4</th>\n",
              "      <th>E5</th>\n",
              "      <th>E6</th>\n",
              "      <th>E7</th>\n",
              "      <th>E8</th>\n",
              "      <th>E9</th>\n",
              "      <th>E10</th>\n",
              "      <th>E11</th>\n",
              "      <th>V1</th>\n",
              "      <th>V2</th>\n",
              "      <th>V3</th>\n",
              "      <th>V4</th>\n",
              "      <th>V5</th>\n",
              "      <th>V6</th>\n",
              "      <th>V7</th>\n",
              "      <th>V8</th>\n",
              "      <th>V9</th>\n",
              "      <th>V10</th>\n",
              "      <th>V11</th>\n",
              "    </tr>\n",
              "  </thead>\n",
              "  <tbody>\n",
              "    <tr>\n",
              "      <th>0</th>\n",
              "      <td>0</td>\n",
              "      <td>0</td>\n",
              "      <td>0</td>\n",
              "      <td>34.7406</td>\n",
              "      <td>9.84593</td>\n",
              "      <td>1400</td>\n",
              "      <td>42.8571</td>\n",
              "      <td>0.290601</td>\n",
              "      <td>572</td>\n",
              "      <td>104.895</td>\n",
              "      <td>0</td>\n",
              "      <td>0.0</td>\n",
              "      <td>0.0</td>\n",
              "      <td>1</td>\n",
              "      <td>-20</td>\n",
              "      <td>0.015875</td>\n",
              "      <td>324</td>\n",
              "      <td>1</td>\n",
              "      <td>1</td>\n",
              "      <td>1</td>\n",
              "      <td>57</td>\n",
              "      <td>0.0</td>\n",
              "      <td>101.96</td>\n",
              "      <td>0.175</td>\n",
              "      <td>752</td>\n",
              "      <td>5.99375</td>\n",
              "      <td>0</td>\n",
              "      <td>2005</td>\n",
              "      <td>0</td>\n",
              "      <td>13.4</td>\n",
              "      <td>0</td>\n",
              "      <td>4</td>\n",
              "      <td>14.8004</td>\n",
              "    </tr>\n",
              "    <tr>\n",
              "      <th>1</th>\n",
              "      <td>0</td>\n",
              "      <td>1</td>\n",
              "      <td>0</td>\n",
              "      <td>34.4215</td>\n",
              "      <td>13.41120</td>\n",
              "      <td>1400</td>\n",
              "      <td>42.8571</td>\n",
              "      <td>0.290601</td>\n",
              "      <td>572</td>\n",
              "      <td>104.895</td>\n",
              "      <td>0</td>\n",
              "      <td>0.0</td>\n",
              "      <td>0.0</td>\n",
              "      <td>1</td>\n",
              "      <td>-20</td>\n",
              "      <td>0.015875</td>\n",
              "      <td>324</td>\n",
              "      <td>1</td>\n",
              "      <td>1</td>\n",
              "      <td>1</td>\n",
              "      <td>57</td>\n",
              "      <td>0.0</td>\n",
              "      <td>101.98</td>\n",
              "      <td>0.455</td>\n",
              "      <td>752</td>\n",
              "      <td>5.99375</td>\n",
              "      <td>0</td>\n",
              "      <td>2007</td>\n",
              "      <td>0</td>\n",
              "      <td>13.4</td>\n",
              "      <td>0</td>\n",
              "      <td>4</td>\n",
              "      <td>14.7729</td>\n",
              "    </tr>\n",
              "    <tr>\n",
              "      <th>2</th>\n",
              "      <td>0</td>\n",
              "      <td>2</td>\n",
              "      <td>0</td>\n",
              "      <td>34.3447</td>\n",
              "      <td>15.18520</td>\n",
              "      <td>1400</td>\n",
              "      <td>42.8571</td>\n",
              "      <td>0.290601</td>\n",
              "      <td>576</td>\n",
              "      <td>104.167</td>\n",
              "      <td>0</td>\n",
              "      <td>0.0</td>\n",
              "      <td>0.0</td>\n",
              "      <td>1</td>\n",
              "      <td>-20</td>\n",
              "      <td>0.015875</td>\n",
              "      <td>324</td>\n",
              "      <td>1</td>\n",
              "      <td>1</td>\n",
              "      <td>1</td>\n",
              "      <td>57</td>\n",
              "      <td>0.0</td>\n",
              "      <td>101.97</td>\n",
              "      <td>0.280</td>\n",
              "      <td>752</td>\n",
              "      <td>5.99375</td>\n",
              "      <td>0</td>\n",
              "      <td>2011</td>\n",
              "      <td>0</td>\n",
              "      <td>13.4</td>\n",
              "      <td>0</td>\n",
              "      <td>4</td>\n",
              "      <td>14.7736</td>\n",
              "    </tr>\n",
              "    <tr>\n",
              "      <th>3</th>\n",
              "      <td>0</td>\n",
              "      <td>3</td>\n",
              "      <td>0</td>\n",
              "      <td>34.3421</td>\n",
              "      <td>8.84696</td>\n",
              "      <td>1400</td>\n",
              "      <td>42.8571</td>\n",
              "      <td>0.290601</td>\n",
              "      <td>576</td>\n",
              "      <td>104.167</td>\n",
              "      <td>0</td>\n",
              "      <td>0.0</td>\n",
              "      <td>0.0</td>\n",
              "      <td>1</td>\n",
              "      <td>-20</td>\n",
              "      <td>0.015875</td>\n",
              "      <td>324</td>\n",
              "      <td>1</td>\n",
              "      <td>1</td>\n",
              "      <td>1</td>\n",
              "      <td>57</td>\n",
              "      <td>0.0</td>\n",
              "      <td>101.99</td>\n",
              "      <td>0.070</td>\n",
              "      <td>752</td>\n",
              "      <td>5.99375</td>\n",
              "      <td>0</td>\n",
              "      <td>2015</td>\n",
              "      <td>0</td>\n",
              "      <td>13.4</td>\n",
              "      <td>0</td>\n",
              "      <td>4</td>\n",
              "      <td>14.7667</td>\n",
              "    </tr>\n",
              "    <tr>\n",
              "      <th>4</th>\n",
              "      <td>0</td>\n",
              "      <td>4</td>\n",
              "      <td>0</td>\n",
              "      <td>34.3322</td>\n",
              "      <td>14.69940</td>\n",
              "      <td>1400</td>\n",
              "      <td>42.8571</td>\n",
              "      <td>0.290601</td>\n",
              "      <td>576</td>\n",
              "      <td>104.167</td>\n",
              "      <td>0</td>\n",
              "      <td>0.0</td>\n",
              "      <td>0.0</td>\n",
              "      <td>1</td>\n",
              "      <td>-20</td>\n",
              "      <td>0.015875</td>\n",
              "      <td>324</td>\n",
              "      <td>1</td>\n",
              "      <td>1</td>\n",
              "      <td>1</td>\n",
              "      <td>57</td>\n",
              "      <td>0.0</td>\n",
              "      <td>102.07</td>\n",
              "      <td>0.175</td>\n",
              "      <td>752</td>\n",
              "      <td>5.99375</td>\n",
              "      <td>0</td>\n",
              "      <td>2017</td>\n",
              "      <td>0</td>\n",
              "      <td>13.4</td>\n",
              "      <td>0</td>\n",
              "      <td>4</td>\n",
              "      <td>14.7757</td>\n",
              "    </tr>\n",
              "  </tbody>\n",
              "</table>\n",
              "</div>\n",
              "      <button class=\"colab-df-convert\" onclick=\"convertToInteractive('df-70835478-1c16-4b8b-bf6f-a17982957aa0')\"\n",
              "              title=\"Convert this dataframe to an interactive table.\"\n",
              "              style=\"display:none;\">\n",
              "        \n",
              "  <svg xmlns=\"http://www.w3.org/2000/svg\" height=\"24px\"viewBox=\"0 0 24 24\"\n",
              "       width=\"24px\">\n",
              "    <path d=\"M0 0h24v24H0V0z\" fill=\"none\"/>\n",
              "    <path d=\"M18.56 5.44l.94 2.06.94-2.06 2.06-.94-2.06-.94-.94-2.06-.94 2.06-2.06.94zm-11 1L8.5 8.5l.94-2.06 2.06-.94-2.06-.94L8.5 2.5l-.94 2.06-2.06.94zm10 10l.94 2.06.94-2.06 2.06-.94-2.06-.94-.94-2.06-.94 2.06-2.06.94z\"/><path d=\"M17.41 7.96l-1.37-1.37c-.4-.4-.92-.59-1.43-.59-.52 0-1.04.2-1.43.59L10.3 9.45l-7.72 7.72c-.78.78-.78 2.05 0 2.83L4 21.41c.39.39.9.59 1.41.59.51 0 1.02-.2 1.41-.59l7.78-7.78 2.81-2.81c.8-.78.8-2.07 0-2.86zM5.41 20L4 18.59l7.72-7.72 1.47 1.35L5.41 20z\"/>\n",
              "  </svg>\n",
              "      </button>\n",
              "      \n",
              "  <style>\n",
              "    .colab-df-container {\n",
              "      display:flex;\n",
              "      flex-wrap:wrap;\n",
              "      gap: 12px;\n",
              "    }\n",
              "\n",
              "    .colab-df-convert {\n",
              "      background-color: #E8F0FE;\n",
              "      border: none;\n",
              "      border-radius: 50%;\n",
              "      cursor: pointer;\n",
              "      display: none;\n",
              "      fill: #1967D2;\n",
              "      height: 32px;\n",
              "      padding: 0 0 0 0;\n",
              "      width: 32px;\n",
              "    }\n",
              "\n",
              "    .colab-df-convert:hover {\n",
              "      background-color: #E2EBFA;\n",
              "      box-shadow: 0px 1px 2px rgba(60, 64, 67, 0.3), 0px 1px 3px 1px rgba(60, 64, 67, 0.15);\n",
              "      fill: #174EA6;\n",
              "    }\n",
              "\n",
              "    [theme=dark] .colab-df-convert {\n",
              "      background-color: #3B4455;\n",
              "      fill: #D2E3FC;\n",
              "    }\n",
              "\n",
              "    [theme=dark] .colab-df-convert:hover {\n",
              "      background-color: #434B5C;\n",
              "      box-shadow: 0px 1px 3px 1px rgba(0, 0, 0, 0.15);\n",
              "      filter: drop-shadow(0px 1px 2px rgba(0, 0, 0, 0.3));\n",
              "      fill: #FFFFFF;\n",
              "    }\n",
              "  </style>\n",
              "\n",
              "      <script>\n",
              "        const buttonEl =\n",
              "          document.querySelector('#df-70835478-1c16-4b8b-bf6f-a17982957aa0 button.colab-df-convert');\n",
              "        buttonEl.style.display =\n",
              "          google.colab.kernel.accessAllowed ? 'block' : 'none';\n",
              "\n",
              "        async function convertToInteractive(key) {\n",
              "          const element = document.querySelector('#df-70835478-1c16-4b8b-bf6f-a17982957aa0');\n",
              "          const dataTable =\n",
              "            await google.colab.kernel.invokeFunction('convertToInteractive',\n",
              "                                                     [key], {});\n",
              "          if (!dataTable) return;\n",
              "\n",
              "          const docLinkHtml = 'Like what you see? Visit the ' +\n",
              "            '<a target=\"_blank\" href=https://colab.research.google.com/notebooks/data_table.ipynb>data table notebook</a>'\n",
              "            + ' to learn more about interactive tables.';\n",
              "          element.innerHTML = '';\n",
              "          dataTable['output_type'] = 'display_data';\n",
              "          await google.colab.output.renderOutput(dataTable, element);\n",
              "          const docLink = document.createElement('div');\n",
              "          docLink.innerHTML = docLinkHtml;\n",
              "          element.appendChild(docLink);\n",
              "        }\n",
              "      </script>\n",
              "    </div>\n",
              "  </div>\n",
              "  "
            ],
            "text/plain": [
              "   TrialID  ObsNum  IsAlert       P1        P2    P3       P4        P5   P6  \\\n",
              "0        0       0        0  34.7406   9.84593  1400  42.8571  0.290601  572   \n",
              "1        0       1        0  34.4215  13.41120  1400  42.8571  0.290601  572   \n",
              "2        0       2        0  34.3447  15.18520  1400  42.8571  0.290601  576   \n",
              "3        0       3        0  34.3421   8.84696  1400  42.8571  0.290601  576   \n",
              "4        0       4        0  34.3322  14.69940  1400  42.8571  0.290601  576   \n",
              "\n",
              "        P7  P8   E1   E2  E3  E4        E5   E6  E7  E8  E9  E10  E11      V1  \\\n",
              "0  104.895   0  0.0  0.0   1 -20  0.015875  324   1   1   1   57  0.0  101.96   \n",
              "1  104.895   0  0.0  0.0   1 -20  0.015875  324   1   1   1   57  0.0  101.98   \n",
              "2  104.167   0  0.0  0.0   1 -20  0.015875  324   1   1   1   57  0.0  101.97   \n",
              "3  104.167   0  0.0  0.0   1 -20  0.015875  324   1   1   1   57  0.0  101.99   \n",
              "4  104.167   0  0.0  0.0   1 -20  0.015875  324   1   1   1   57  0.0  102.07   \n",
              "\n",
              "      V2   V3       V4  V5    V6  V7    V8  V9  V10      V11  \n",
              "0  0.175  752  5.99375   0  2005   0  13.4   0    4  14.8004  \n",
              "1  0.455  752  5.99375   0  2007   0  13.4   0    4  14.7729  \n",
              "2  0.280  752  5.99375   0  2011   0  13.4   0    4  14.7736  \n",
              "3  0.070  752  5.99375   0  2015   0  13.4   0    4  14.7667  \n",
              "4  0.175  752  5.99375   0  2017   0  13.4   0    4  14.7757  "
            ]
          },
          "execution_count": 12,
          "metadata": {},
          "output_type": "execute_result"
        }
      ],
      "source": [
        "train.head()"
      ]
    },
    {
      "cell_type": "code",
      "execution_count": 13,
      "metadata": {
        "colab": {
          "base_uri": "https://localhost:8080/",
          "height": 270
        },
        "id": "4T8Qx51jS6Oo",
        "outputId": "907fe947-9d26-49a3-a85b-6bcf0f831f4b"
      },
      "outputs": [
        {
          "data": {
            "text/html": [
              "\n",
              "  <div id=\"df-93c9238a-e2b3-43a5-804b-3267e871d577\">\n",
              "    <div class=\"colab-df-container\">\n",
              "      <div>\n",
              "<style scoped>\n",
              "    .dataframe tbody tr th:only-of-type {\n",
              "        vertical-align: middle;\n",
              "    }\n",
              "\n",
              "    .dataframe tbody tr th {\n",
              "        vertical-align: top;\n",
              "    }\n",
              "\n",
              "    .dataframe thead th {\n",
              "        text-align: right;\n",
              "    }\n",
              "</style>\n",
              "<table border=\"1\" class=\"dataframe\">\n",
              "  <thead>\n",
              "    <tr style=\"text-align: right;\">\n",
              "      <th></th>\n",
              "      <th>TrialID</th>\n",
              "      <th>ObsNum</th>\n",
              "      <th>IsAlert</th>\n",
              "      <th>P1</th>\n",
              "      <th>P2</th>\n",
              "      <th>P3</th>\n",
              "      <th>P4</th>\n",
              "      <th>P5</th>\n",
              "      <th>P6</th>\n",
              "      <th>P7</th>\n",
              "      <th>P8</th>\n",
              "      <th>E1</th>\n",
              "      <th>E2</th>\n",
              "      <th>E3</th>\n",
              "      <th>E4</th>\n",
              "      <th>E5</th>\n",
              "      <th>E6</th>\n",
              "      <th>E7</th>\n",
              "      <th>E8</th>\n",
              "      <th>E9</th>\n",
              "      <th>E10</th>\n",
              "      <th>E11</th>\n",
              "      <th>V1</th>\n",
              "      <th>V2</th>\n",
              "      <th>V3</th>\n",
              "      <th>V4</th>\n",
              "      <th>V5</th>\n",
              "      <th>V6</th>\n",
              "      <th>V7</th>\n",
              "      <th>V8</th>\n",
              "      <th>V9</th>\n",
              "      <th>V10</th>\n",
              "      <th>V11</th>\n",
              "    </tr>\n",
              "  </thead>\n",
              "  <tbody>\n",
              "    <tr>\n",
              "      <th>0</th>\n",
              "      <td>0</td>\n",
              "      <td>0</td>\n",
              "      <td>?</td>\n",
              "      <td>38.4294</td>\n",
              "      <td>10.9435</td>\n",
              "      <td>1000</td>\n",
              "      <td>60.0</td>\n",
              "      <td>0.302277</td>\n",
              "      <td>508</td>\n",
              "      <td>118.110</td>\n",
              "      <td>0</td>\n",
              "      <td>0.0</td>\n",
              "      <td>0.0</td>\n",
              "      <td>4</td>\n",
              "      <td>4</td>\n",
              "      <td>0.015434</td>\n",
              "      <td>328</td>\n",
              "      <td>1</td>\n",
              "      <td>1</td>\n",
              "      <td>1</td>\n",
              "      <td>64</td>\n",
              "      <td>0.0</td>\n",
              "      <td>108.57</td>\n",
              "      <td>0.00</td>\n",
              "      <td>255</td>\n",
              "      <td>4.50625</td>\n",
              "      <td>0</td>\n",
              "      <td>2127</td>\n",
              "      <td>0</td>\n",
              "      <td>17.6</td>\n",
              "      <td>0</td>\n",
              "      <td>4</td>\n",
              "      <td>16.1937</td>\n",
              "    </tr>\n",
              "    <tr>\n",
              "      <th>1</th>\n",
              "      <td>0</td>\n",
              "      <td>1</td>\n",
              "      <td>?</td>\n",
              "      <td>38.3609</td>\n",
              "      <td>15.3212</td>\n",
              "      <td>1000</td>\n",
              "      <td>60.0</td>\n",
              "      <td>0.302277</td>\n",
              "      <td>508</td>\n",
              "      <td>118.110</td>\n",
              "      <td>0</td>\n",
              "      <td>0.0</td>\n",
              "      <td>0.0</td>\n",
              "      <td>4</td>\n",
              "      <td>4</td>\n",
              "      <td>0.015434</td>\n",
              "      <td>328</td>\n",
              "      <td>1</td>\n",
              "      <td>1</td>\n",
              "      <td>1</td>\n",
              "      <td>64</td>\n",
              "      <td>0.0</td>\n",
              "      <td>108.57</td>\n",
              "      <td>0.00</td>\n",
              "      <td>255</td>\n",
              "      <td>4.50625</td>\n",
              "      <td>0</td>\n",
              "      <td>2127</td>\n",
              "      <td>0</td>\n",
              "      <td>17.6</td>\n",
              "      <td>0</td>\n",
              "      <td>4</td>\n",
              "      <td>16.1744</td>\n",
              "    </tr>\n",
              "    <tr>\n",
              "      <th>2</th>\n",
              "      <td>0</td>\n",
              "      <td>2</td>\n",
              "      <td>?</td>\n",
              "      <td>38.2342</td>\n",
              "      <td>11.5140</td>\n",
              "      <td>1000</td>\n",
              "      <td>60.0</td>\n",
              "      <td>0.302277</td>\n",
              "      <td>508</td>\n",
              "      <td>118.110</td>\n",
              "      <td>0</td>\n",
              "      <td>0.0</td>\n",
              "      <td>0.0</td>\n",
              "      <td>4</td>\n",
              "      <td>8</td>\n",
              "      <td>0.015938</td>\n",
              "      <td>328</td>\n",
              "      <td>1</td>\n",
              "      <td>1</td>\n",
              "      <td>1</td>\n",
              "      <td>65</td>\n",
              "      <td>0.0</td>\n",
              "      <td>108.65</td>\n",
              "      <td>0.07</td>\n",
              "      <td>255</td>\n",
              "      <td>4.50625</td>\n",
              "      <td>0</td>\n",
              "      <td>2131</td>\n",
              "      <td>0</td>\n",
              "      <td>17.6</td>\n",
              "      <td>0</td>\n",
              "      <td>4</td>\n",
              "      <td>16.1602</td>\n",
              "    </tr>\n",
              "    <tr>\n",
              "      <th>3</th>\n",
              "      <td>0</td>\n",
              "      <td>3</td>\n",
              "      <td>?</td>\n",
              "      <td>37.9304</td>\n",
              "      <td>12.2615</td>\n",
              "      <td>1000</td>\n",
              "      <td>60.0</td>\n",
              "      <td>0.302277</td>\n",
              "      <td>508</td>\n",
              "      <td>118.110</td>\n",
              "      <td>0</td>\n",
              "      <td>0.0</td>\n",
              "      <td>0.0</td>\n",
              "      <td>4</td>\n",
              "      <td>8</td>\n",
              "      <td>0.015938</td>\n",
              "      <td>328</td>\n",
              "      <td>1</td>\n",
              "      <td>1</td>\n",
              "      <td>1</td>\n",
              "      <td>65</td>\n",
              "      <td>0.0</td>\n",
              "      <td>108.65</td>\n",
              "      <td>0.07</td>\n",
              "      <td>255</td>\n",
              "      <td>4.50625</td>\n",
              "      <td>0</td>\n",
              "      <td>2131</td>\n",
              "      <td>0</td>\n",
              "      <td>17.6</td>\n",
              "      <td>0</td>\n",
              "      <td>4</td>\n",
              "      <td>16.1725</td>\n",
              "    </tr>\n",
              "    <tr>\n",
              "      <th>4</th>\n",
              "      <td>0</td>\n",
              "      <td>4</td>\n",
              "      <td>?</td>\n",
              "      <td>37.8085</td>\n",
              "      <td>12.3666</td>\n",
              "      <td>1000</td>\n",
              "      <td>60.0</td>\n",
              "      <td>0.302277</td>\n",
              "      <td>504</td>\n",
              "      <td>119.048</td>\n",
              "      <td>0</td>\n",
              "      <td>0.0</td>\n",
              "      <td>0.0</td>\n",
              "      <td>4</td>\n",
              "      <td>8</td>\n",
              "      <td>0.015938</td>\n",
              "      <td>328</td>\n",
              "      <td>1</td>\n",
              "      <td>1</td>\n",
              "      <td>1</td>\n",
              "      <td>65</td>\n",
              "      <td>0.0</td>\n",
              "      <td>108.57</td>\n",
              "      <td>0.00</td>\n",
              "      <td>255</td>\n",
              "      <td>4.50625</td>\n",
              "      <td>0</td>\n",
              "      <td>2136</td>\n",
              "      <td>0</td>\n",
              "      <td>17.6</td>\n",
              "      <td>0</td>\n",
              "      <td>4</td>\n",
              "      <td>16.1459</td>\n",
              "    </tr>\n",
              "  </tbody>\n",
              "</table>\n",
              "</div>\n",
              "      <button class=\"colab-df-convert\" onclick=\"convertToInteractive('df-93c9238a-e2b3-43a5-804b-3267e871d577')\"\n",
              "              title=\"Convert this dataframe to an interactive table.\"\n",
              "              style=\"display:none;\">\n",
              "        \n",
              "  <svg xmlns=\"http://www.w3.org/2000/svg\" height=\"24px\"viewBox=\"0 0 24 24\"\n",
              "       width=\"24px\">\n",
              "    <path d=\"M0 0h24v24H0V0z\" fill=\"none\"/>\n",
              "    <path d=\"M18.56 5.44l.94 2.06.94-2.06 2.06-.94-2.06-.94-.94-2.06-.94 2.06-2.06.94zm-11 1L8.5 8.5l.94-2.06 2.06-.94-2.06-.94L8.5 2.5l-.94 2.06-2.06.94zm10 10l.94 2.06.94-2.06 2.06-.94-2.06-.94-.94-2.06-.94 2.06-2.06.94z\"/><path d=\"M17.41 7.96l-1.37-1.37c-.4-.4-.92-.59-1.43-.59-.52 0-1.04.2-1.43.59L10.3 9.45l-7.72 7.72c-.78.78-.78 2.05 0 2.83L4 21.41c.39.39.9.59 1.41.59.51 0 1.02-.2 1.41-.59l7.78-7.78 2.81-2.81c.8-.78.8-2.07 0-2.86zM5.41 20L4 18.59l7.72-7.72 1.47 1.35L5.41 20z\"/>\n",
              "  </svg>\n",
              "      </button>\n",
              "      \n",
              "  <style>\n",
              "    .colab-df-container {\n",
              "      display:flex;\n",
              "      flex-wrap:wrap;\n",
              "      gap: 12px;\n",
              "    }\n",
              "\n",
              "    .colab-df-convert {\n",
              "      background-color: #E8F0FE;\n",
              "      border: none;\n",
              "      border-radius: 50%;\n",
              "      cursor: pointer;\n",
              "      display: none;\n",
              "      fill: #1967D2;\n",
              "      height: 32px;\n",
              "      padding: 0 0 0 0;\n",
              "      width: 32px;\n",
              "    }\n",
              "\n",
              "    .colab-df-convert:hover {\n",
              "      background-color: #E2EBFA;\n",
              "      box-shadow: 0px 1px 2px rgba(60, 64, 67, 0.3), 0px 1px 3px 1px rgba(60, 64, 67, 0.15);\n",
              "      fill: #174EA6;\n",
              "    }\n",
              "\n",
              "    [theme=dark] .colab-df-convert {\n",
              "      background-color: #3B4455;\n",
              "      fill: #D2E3FC;\n",
              "    }\n",
              "\n",
              "    [theme=dark] .colab-df-convert:hover {\n",
              "      background-color: #434B5C;\n",
              "      box-shadow: 0px 1px 3px 1px rgba(0, 0, 0, 0.15);\n",
              "      filter: drop-shadow(0px 1px 2px rgba(0, 0, 0, 0.3));\n",
              "      fill: #FFFFFF;\n",
              "    }\n",
              "  </style>\n",
              "\n",
              "      <script>\n",
              "        const buttonEl =\n",
              "          document.querySelector('#df-93c9238a-e2b3-43a5-804b-3267e871d577 button.colab-df-convert');\n",
              "        buttonEl.style.display =\n",
              "          google.colab.kernel.accessAllowed ? 'block' : 'none';\n",
              "\n",
              "        async function convertToInteractive(key) {\n",
              "          const element = document.querySelector('#df-93c9238a-e2b3-43a5-804b-3267e871d577');\n",
              "          const dataTable =\n",
              "            await google.colab.kernel.invokeFunction('convertToInteractive',\n",
              "                                                     [key], {});\n",
              "          if (!dataTable) return;\n",
              "\n",
              "          const docLinkHtml = 'Like what you see? Visit the ' +\n",
              "            '<a target=\"_blank\" href=https://colab.research.google.com/notebooks/data_table.ipynb>data table notebook</a>'\n",
              "            + ' to learn more about interactive tables.';\n",
              "          element.innerHTML = '';\n",
              "          dataTable['output_type'] = 'display_data';\n",
              "          await google.colab.output.renderOutput(dataTable, element);\n",
              "          const docLink = document.createElement('div');\n",
              "          docLink.innerHTML = docLinkHtml;\n",
              "          element.appendChild(docLink);\n",
              "        }\n",
              "      </script>\n",
              "    </div>\n",
              "  </div>\n",
              "  "
            ],
            "text/plain": [
              "   TrialID  ObsNum IsAlert       P1       P2    P3    P4        P5   P6  \\\n",
              "0        0       0       ?  38.4294  10.9435  1000  60.0  0.302277  508   \n",
              "1        0       1       ?  38.3609  15.3212  1000  60.0  0.302277  508   \n",
              "2        0       2       ?  38.2342  11.5140  1000  60.0  0.302277  508   \n",
              "3        0       3       ?  37.9304  12.2615  1000  60.0  0.302277  508   \n",
              "4        0       4       ?  37.8085  12.3666  1000  60.0  0.302277  504   \n",
              "\n",
              "        P7  P8   E1   E2  E3  E4        E5   E6  E7  E8  E9  E10  E11      V1  \\\n",
              "0  118.110   0  0.0  0.0   4   4  0.015434  328   1   1   1   64  0.0  108.57   \n",
              "1  118.110   0  0.0  0.0   4   4  0.015434  328   1   1   1   64  0.0  108.57   \n",
              "2  118.110   0  0.0  0.0   4   8  0.015938  328   1   1   1   65  0.0  108.65   \n",
              "3  118.110   0  0.0  0.0   4   8  0.015938  328   1   1   1   65  0.0  108.65   \n",
              "4  119.048   0  0.0  0.0   4   8  0.015938  328   1   1   1   65  0.0  108.57   \n",
              "\n",
              "     V2   V3       V4  V5    V6  V7    V8  V9  V10      V11  \n",
              "0  0.00  255  4.50625   0  2127   0  17.6   0    4  16.1937  \n",
              "1  0.00  255  4.50625   0  2127   0  17.6   0    4  16.1744  \n",
              "2  0.07  255  4.50625   0  2131   0  17.6   0    4  16.1602  \n",
              "3  0.07  255  4.50625   0  2131   0  17.6   0    4  16.1725  \n",
              "4  0.00  255  4.50625   0  2136   0  17.6   0    4  16.1459  "
            ]
          },
          "execution_count": 13,
          "metadata": {},
          "output_type": "execute_result"
        }
      ],
      "source": [
        "test.head()"
      ]
    },
    {
      "cell_type": "code",
      "execution_count": 14,
      "metadata": {
        "colab": {
          "base_uri": "https://localhost:8080/"
        },
        "id": "3I2bs3FwS6Oo",
        "outputId": "2fe152d2-449d-40a0-a55f-34cccd303ff4"
      },
      "outputs": [
        {
          "name": "stdout",
          "output_type": "stream",
          "text": [
            "<class 'pandas.core.frame.DataFrame'>\n",
            "RangeIndex: 604329 entries, 0 to 604328\n",
            "Data columns (total 33 columns):\n",
            " #   Column   Non-Null Count   Dtype  \n",
            "---  ------   --------------   -----  \n",
            " 0   TrialID  604329 non-null  int64  \n",
            " 1   ObsNum   604329 non-null  int64  \n",
            " 2   IsAlert  604329 non-null  int64  \n",
            " 3   P1       604329 non-null  float64\n",
            " 4   P2       604329 non-null  float64\n",
            " 5   P3       604329 non-null  int64  \n",
            " 6   P4       604329 non-null  float64\n",
            " 7   P5       604329 non-null  float64\n",
            " 8   P6       604329 non-null  int64  \n",
            " 9   P7       604329 non-null  float64\n",
            " 10  P8       604329 non-null  int64  \n",
            " 11  E1       604329 non-null  float64\n",
            " 12  E2       604329 non-null  float64\n",
            " 13  E3       604329 non-null  int64  \n",
            " 14  E4       604329 non-null  int64  \n",
            " 15  E5       604329 non-null  float64\n",
            " 16  E6       604329 non-null  int64  \n",
            " 17  E7       604329 non-null  int64  \n",
            " 18  E8       604329 non-null  int64  \n",
            " 19  E9       604329 non-null  int64  \n",
            " 20  E10      604329 non-null  int64  \n",
            " 21  E11      604329 non-null  float64\n",
            " 22  V1       604329 non-null  float64\n",
            " 23  V2       604329 non-null  float64\n",
            " 24  V3       604329 non-null  int64  \n",
            " 25  V4       604329 non-null  float64\n",
            " 26  V5       604329 non-null  int64  \n",
            " 27  V6       604329 non-null  int64  \n",
            " 28  V7       604329 non-null  int64  \n",
            " 29  V8       604329 non-null  float64\n",
            " 30  V9       604329 non-null  int64  \n",
            " 31  V10      604329 non-null  int64  \n",
            " 32  V11      604329 non-null  float64\n",
            "dtypes: float64(14), int64(19)\n",
            "memory usage: 152.2 MB\n"
          ]
        }
      ],
      "source": [
        "train.info()"
      ]
    },
    {
      "cell_type": "markdown",
      "metadata": {
        "id": "3UqO_KBrS6Op"
      },
      "source": [
        "#### As the dataset is large, taking a small sample of the data. i.e., 2,00,000 entries of training data & 20,000 entries of testing data."
      ]
    },
    {
      "cell_type": "code",
      "execution_count": 15,
      "metadata": {
        "id": "VelmhTo3S6Op"
      },
      "outputs": [],
      "source": [
        "train = train[:200000]\n",
        "test = test[:20000]"
      ]
    },
    {
      "cell_type": "markdown",
      "metadata": {
        "id": "Xeenp1KcS6Op"
      },
      "source": [
        "#### Dropping few columns from the dataset, because they have the same value throught out the dataset."
      ]
    },
    {
      "cell_type": "code",
      "execution_count": 16,
      "metadata": {
        "id": "NqNG3p3AS6Op"
      },
      "outputs": [],
      "source": [
        "# divide the data into features and target, here x is features and y is target\n",
        "x = train.drop(columns=[\"TrialID\",\"V7\",\"V9\",\"P8\", \"IsAlert\"], axis=1)\n",
        "y = train['IsAlert']"
      ]
    },
    {
      "cell_type": "markdown",
      "metadata": {
        "id": "_tA7CbtAS6Oq"
      },
      "source": [
        "### Preparing the data for the model"
      ]
    },
    {
      "cell_type": "markdown",
      "metadata": {
        "id": "kq9VyAG9S6Oq"
      },
      "source": [
        "#### Scaling Numeric Features"
      ]
    },
    {
      "cell_type": "code",
      "execution_count": 17,
      "metadata": {
        "id": "I9IXsPYES6Oq"
      },
      "outputs": [],
      "source": [
        "from sklearn.preprocessing import MinMaxScaler"
      ]
    },
    {
      "cell_type": "code",
      "execution_count": 18,
      "metadata": {
        "id": "-uwvxtL0S6Oq"
      },
      "outputs": [],
      "source": [
        "# getting the names of the required columns from x\n",
        "req_col = [i for i in x.columns.to_list() if i != \"ObsNum\"]"
      ]
    },
    {
      "cell_type": "code",
      "execution_count": 19,
      "metadata": {
        "id": "ZqsEhNjMS6Oq"
      },
      "outputs": [],
      "source": [
        "# creating scaler object\n",
        "scaler = MinMaxScaler()"
      ]
    },
    {
      "cell_type": "code",
      "execution_count": 20,
      "metadata": {
        "colab": {
          "base_uri": "https://localhost:8080/",
          "height": 74
        },
        "id": "mVxU1OI6S6Or",
        "outputId": "3c57edbf-8acf-41be-d1dd-14d358a3ee2a"
      },
      "outputs": [
        {
          "data": {
            "text/html": [
              "<style>#sk-container-id-1 {color: black;background-color: white;}#sk-container-id-1 pre{padding: 0;}#sk-container-id-1 div.sk-toggleable {background-color: white;}#sk-container-id-1 label.sk-toggleable__label {cursor: pointer;display: block;width: 100%;margin-bottom: 0;padding: 0.3em;box-sizing: border-box;text-align: center;}#sk-container-id-1 label.sk-toggleable__label-arrow:before {content: \"▸\";float: left;margin-right: 0.25em;color: #696969;}#sk-container-id-1 label.sk-toggleable__label-arrow:hover:before {color: black;}#sk-container-id-1 div.sk-estimator:hover label.sk-toggleable__label-arrow:before {color: black;}#sk-container-id-1 div.sk-toggleable__content {max-height: 0;max-width: 0;overflow: hidden;text-align: left;background-color: #f0f8ff;}#sk-container-id-1 div.sk-toggleable__content pre {margin: 0.2em;color: black;border-radius: 0.25em;background-color: #f0f8ff;}#sk-container-id-1 input.sk-toggleable__control:checked~div.sk-toggleable__content {max-height: 200px;max-width: 100%;overflow: auto;}#sk-container-id-1 input.sk-toggleable__control:checked~label.sk-toggleable__label-arrow:before {content: \"▾\";}#sk-container-id-1 div.sk-estimator input.sk-toggleable__control:checked~label.sk-toggleable__label {background-color: #d4ebff;}#sk-container-id-1 div.sk-label input.sk-toggleable__control:checked~label.sk-toggleable__label {background-color: #d4ebff;}#sk-container-id-1 input.sk-hidden--visually {border: 0;clip: rect(1px 1px 1px 1px);clip: rect(1px, 1px, 1px, 1px);height: 1px;margin: -1px;overflow: hidden;padding: 0;position: absolute;width: 1px;}#sk-container-id-1 div.sk-estimator {font-family: monospace;background-color: #f0f8ff;border: 1px dotted black;border-radius: 0.25em;box-sizing: border-box;margin-bottom: 0.5em;}#sk-container-id-1 div.sk-estimator:hover {background-color: #d4ebff;}#sk-container-id-1 div.sk-parallel-item::after {content: \"\";width: 100%;border-bottom: 1px solid gray;flex-grow: 1;}#sk-container-id-1 div.sk-label:hover label.sk-toggleable__label {background-color: #d4ebff;}#sk-container-id-1 div.sk-serial::before {content: \"\";position: absolute;border-left: 1px solid gray;box-sizing: border-box;top: 0;bottom: 0;left: 50%;z-index: 0;}#sk-container-id-1 div.sk-serial {display: flex;flex-direction: column;align-items: center;background-color: white;padding-right: 0.2em;padding-left: 0.2em;position: relative;}#sk-container-id-1 div.sk-item {position: relative;z-index: 1;}#sk-container-id-1 div.sk-parallel {display: flex;align-items: stretch;justify-content: center;background-color: white;position: relative;}#sk-container-id-1 div.sk-item::before, #sk-container-id-1 div.sk-parallel-item::before {content: \"\";position: absolute;border-left: 1px solid gray;box-sizing: border-box;top: 0;bottom: 0;left: 50%;z-index: -1;}#sk-container-id-1 div.sk-parallel-item {display: flex;flex-direction: column;z-index: 1;position: relative;background-color: white;}#sk-container-id-1 div.sk-parallel-item:first-child::after {align-self: flex-end;width: 50%;}#sk-container-id-1 div.sk-parallel-item:last-child::after {align-self: flex-start;width: 50%;}#sk-container-id-1 div.sk-parallel-item:only-child::after {width: 0;}#sk-container-id-1 div.sk-dashed-wrapped {border: 1px dashed gray;margin: 0 0.4em 0.5em 0.4em;box-sizing: border-box;padding-bottom: 0.4em;background-color: white;}#sk-container-id-1 div.sk-label label {font-family: monospace;font-weight: bold;display: inline-block;line-height: 1.2em;}#sk-container-id-1 div.sk-label-container {text-align: center;}#sk-container-id-1 div.sk-container {/* jupyter's `normalize.less` sets `[hidden] { display: none; }` but bootstrap.min.css set `[hidden] { display: none !important; }` so we also need the `!important` here to be able to override the default hidden behavior on the sphinx rendered scikit-learn.org. See: https://github.com/scikit-learn/scikit-learn/issues/21755 */display: inline-block !important;position: relative;}#sk-container-id-1 div.sk-text-repr-fallback {display: none;}</style><div id=\"sk-container-id-1\" class=\"sk-top-container\"><div class=\"sk-text-repr-fallback\"><pre>MinMaxScaler()</pre><b>In a Jupyter environment, please rerun this cell to show the HTML representation or trust the notebook. <br />On GitHub, the HTML representation is unable to render, please try loading this page with nbviewer.org.</b></div><div class=\"sk-container\" hidden><div class=\"sk-item\"><div class=\"sk-estimator sk-toggleable\"><input class=\"sk-toggleable__control sk-hidden--visually\" id=\"sk-estimator-id-1\" type=\"checkbox\" checked><label for=\"sk-estimator-id-1\" class=\"sk-toggleable__label sk-toggleable__label-arrow\">MinMaxScaler</label><div class=\"sk-toggleable__content\"><pre>MinMaxScaler()</pre></div></div></div></div></div>"
            ],
            "text/plain": [
              "MinMaxScaler()"
            ]
          },
          "execution_count": 20,
          "metadata": {},
          "output_type": "execute_result"
        }
      ],
      "source": [
        "# fitting the data into the scaler\n",
        "scaler.fit(x[req_col])"
      ]
    },
    {
      "cell_type": "code",
      "execution_count": 21,
      "metadata": {
        "id": "_yulq-YTS6Or"
      },
      "outputs": [],
      "source": [
        "# replacing the existing values with the new values after scaling\n",
        "x[req_col] = scaler.transform(x[req_col])"
      ]
    },
    {
      "cell_type": "code",
      "execution_count": 22,
      "metadata": {
        "colab": {
          "base_uri": "https://localhost:8080/",
          "height": 487
        },
        "id": "deVw_v3yS6Or",
        "outputId": "2ba87e57-518a-4444-9410-2671b17e9ba9"
      },
      "outputs": [
        {
          "data": {
            "text/html": [
              "\n",
              "  <div id=\"df-533d8c0a-661c-4811-9f9a-f1cb36facd9a\">\n",
              "    <div class=\"colab-df-container\">\n",
              "      <div>\n",
              "<style scoped>\n",
              "    .dataframe tbody tr th:only-of-type {\n",
              "        vertical-align: middle;\n",
              "    }\n",
              "\n",
              "    .dataframe tbody tr th {\n",
              "        vertical-align: top;\n",
              "    }\n",
              "\n",
              "    .dataframe thead th {\n",
              "        text-align: right;\n",
              "    }\n",
              "</style>\n",
              "<table border=\"1\" class=\"dataframe\">\n",
              "  <thead>\n",
              "    <tr style=\"text-align: right;\">\n",
              "      <th></th>\n",
              "      <th>ObsNum</th>\n",
              "      <th>P1</th>\n",
              "      <th>P2</th>\n",
              "      <th>P3</th>\n",
              "      <th>P4</th>\n",
              "      <th>P5</th>\n",
              "      <th>P6</th>\n",
              "      <th>P7</th>\n",
              "      <th>E1</th>\n",
              "      <th>E2</th>\n",
              "      <th>E3</th>\n",
              "      <th>E4</th>\n",
              "      <th>E5</th>\n",
              "      <th>E6</th>\n",
              "      <th>E7</th>\n",
              "      <th>E8</th>\n",
              "      <th>E9</th>\n",
              "      <th>E10</th>\n",
              "      <th>E11</th>\n",
              "      <th>V1</th>\n",
              "      <th>V2</th>\n",
              "      <th>V3</th>\n",
              "      <th>V4</th>\n",
              "      <th>V5</th>\n",
              "      <th>V6</th>\n",
              "      <th>V8</th>\n",
              "      <th>V10</th>\n",
              "      <th>V11</th>\n",
              "    </tr>\n",
              "  </thead>\n",
              "  <tbody>\n",
              "    <tr>\n",
              "      <th>0</th>\n",
              "      <td>0</td>\n",
              "      <td>0.427060</td>\n",
              "      <td>0.662966</td>\n",
              "      <td>0.446215</td>\n",
              "      <td>0.199362</td>\n",
              "      <td>0.737452</td>\n",
              "      <td>0.128940</td>\n",
              "      <td>0.596951</td>\n",
              "      <td>0.0</td>\n",
              "      <td>0.0</td>\n",
              "      <td>0.25</td>\n",
              "      <td>0.460</td>\n",
              "      <td>0.494071</td>\n",
              "      <td>0.252964</td>\n",
              "      <td>0.05</td>\n",
              "      <td>0.111111</td>\n",
              "      <td>1.0</td>\n",
              "      <td>0.448819</td>\n",
              "      <td>0.0</td>\n",
              "      <td>0.814182</td>\n",
              "      <td>0.599156</td>\n",
              "      <td>0.653895</td>\n",
              "      <td>0.012487</td>\n",
              "      <td>0.0</td>\n",
              "      <td>0.341769</td>\n",
              "      <td>0.215781</td>\n",
              "      <td>0.5</td>\n",
              "      <td>0.036143</td>\n",
              "    </tr>\n",
              "    <tr>\n",
              "      <th>1</th>\n",
              "      <td>1</td>\n",
              "      <td>0.424283</td>\n",
              "      <td>0.734407</td>\n",
              "      <td>0.446215</td>\n",
              "      <td>0.199362</td>\n",
              "      <td>0.737452</td>\n",
              "      <td>0.128940</td>\n",
              "      <td>0.596951</td>\n",
              "      <td>0.0</td>\n",
              "      <td>0.0</td>\n",
              "      <td>0.25</td>\n",
              "      <td>0.460</td>\n",
              "      <td>0.494071</td>\n",
              "      <td>0.252964</td>\n",
              "      <td>0.05</td>\n",
              "      <td>0.111111</td>\n",
              "      <td>1.0</td>\n",
              "      <td>0.448819</td>\n",
              "      <td>0.0</td>\n",
              "      <td>0.814342</td>\n",
              "      <td>0.632911</td>\n",
              "      <td>0.653895</td>\n",
              "      <td>0.012487</td>\n",
              "      <td>0.0</td>\n",
              "      <td>0.342225</td>\n",
              "      <td>0.215781</td>\n",
              "      <td>0.5</td>\n",
              "      <td>0.036034</td>\n",
              "    </tr>\n",
              "    <tr>\n",
              "      <th>2</th>\n",
              "      <td>2</td>\n",
              "      <td>0.423614</td>\n",
              "      <td>0.769955</td>\n",
              "      <td>0.446215</td>\n",
              "      <td>0.199362</td>\n",
              "      <td>0.737452</td>\n",
              "      <td>0.131805</td>\n",
              "      <td>0.590859</td>\n",
              "      <td>0.0</td>\n",
              "      <td>0.0</td>\n",
              "      <td>0.25</td>\n",
              "      <td>0.460</td>\n",
              "      <td>0.494071</td>\n",
              "      <td>0.252964</td>\n",
              "      <td>0.05</td>\n",
              "      <td>0.111111</td>\n",
              "      <td>1.0</td>\n",
              "      <td>0.448819</td>\n",
              "      <td>0.0</td>\n",
              "      <td>0.814262</td>\n",
              "      <td>0.611814</td>\n",
              "      <td>0.653895</td>\n",
              "      <td>0.012487</td>\n",
              "      <td>0.0</td>\n",
              "      <td>0.343137</td>\n",
              "      <td>0.215781</td>\n",
              "      <td>0.5</td>\n",
              "      <td>0.036037</td>\n",
              "    </tr>\n",
              "    <tr>\n",
              "      <th>3</th>\n",
              "      <td>3</td>\n",
              "      <td>0.423591</td>\n",
              "      <td>0.642948</td>\n",
              "      <td>0.446215</td>\n",
              "      <td>0.199362</td>\n",
              "      <td>0.737452</td>\n",
              "      <td>0.131805</td>\n",
              "      <td>0.590859</td>\n",
              "      <td>0.0</td>\n",
              "      <td>0.0</td>\n",
              "      <td>0.25</td>\n",
              "      <td>0.460</td>\n",
              "      <td>0.494071</td>\n",
              "      <td>0.252964</td>\n",
              "      <td>0.05</td>\n",
              "      <td>0.111111</td>\n",
              "      <td>1.0</td>\n",
              "      <td>0.448819</td>\n",
              "      <td>0.0</td>\n",
              "      <td>0.814421</td>\n",
              "      <td>0.586498</td>\n",
              "      <td>0.653895</td>\n",
              "      <td>0.012487</td>\n",
              "      <td>0.0</td>\n",
              "      <td>0.344049</td>\n",
              "      <td>0.215781</td>\n",
              "      <td>0.5</td>\n",
              "      <td>0.036009</td>\n",
              "    </tr>\n",
              "    <tr>\n",
              "      <th>4</th>\n",
              "      <td>4</td>\n",
              "      <td>0.423505</td>\n",
              "      <td>0.760221</td>\n",
              "      <td>0.446215</td>\n",
              "      <td>0.199362</td>\n",
              "      <td>0.737452</td>\n",
              "      <td>0.131805</td>\n",
              "      <td>0.590859</td>\n",
              "      <td>0.0</td>\n",
              "      <td>0.0</td>\n",
              "      <td>0.25</td>\n",
              "      <td>0.460</td>\n",
              "      <td>0.494071</td>\n",
              "      <td>0.252964</td>\n",
              "      <td>0.05</td>\n",
              "      <td>0.111111</td>\n",
              "      <td>1.0</td>\n",
              "      <td>0.448819</td>\n",
              "      <td>0.0</td>\n",
              "      <td>0.815060</td>\n",
              "      <td>0.599156</td>\n",
              "      <td>0.653895</td>\n",
              "      <td>0.012487</td>\n",
              "      <td>0.0</td>\n",
              "      <td>0.344505</td>\n",
              "      <td>0.215781</td>\n",
              "      <td>0.5</td>\n",
              "      <td>0.036045</td>\n",
              "    </tr>\n",
              "    <tr>\n",
              "      <th>...</th>\n",
              "      <td>...</td>\n",
              "      <td>...</td>\n",
              "      <td>...</td>\n",
              "      <td>...</td>\n",
              "      <td>...</td>\n",
              "      <td>...</td>\n",
              "      <td>...</td>\n",
              "      <td>...</td>\n",
              "      <td>...</td>\n",
              "      <td>...</td>\n",
              "      <td>...</td>\n",
              "      <td>...</td>\n",
              "      <td>...</td>\n",
              "      <td>...</td>\n",
              "      <td>...</td>\n",
              "      <td>...</td>\n",
              "      <td>...</td>\n",
              "      <td>...</td>\n",
              "      <td>...</td>\n",
              "      <td>...</td>\n",
              "      <td>...</td>\n",
              "      <td>...</td>\n",
              "      <td>...</td>\n",
              "      <td>...</td>\n",
              "      <td>...</td>\n",
              "      <td>...</td>\n",
              "      <td>...</td>\n",
              "      <td>...</td>\n",
              "    </tr>\n",
              "    <tr>\n",
              "      <th>199995</th>\n",
              "      <td>580</td>\n",
              "      <td>0.450931</td>\n",
              "      <td>0.852196</td>\n",
              "      <td>0.103586</td>\n",
              "      <td>0.634539</td>\n",
              "      <td>0.162160</td>\n",
              "      <td>0.206304</td>\n",
              "      <td>0.457544</td>\n",
              "      <td>0.0</td>\n",
              "      <td>0.0</td>\n",
              "      <td>0.00</td>\n",
              "      <td>0.500</td>\n",
              "      <td>0.525692</td>\n",
              "      <td>0.359684</td>\n",
              "      <td>0.05</td>\n",
              "      <td>0.111111</td>\n",
              "      <td>1.0</td>\n",
              "      <td>0.566929</td>\n",
              "      <td>0.0</td>\n",
              "      <td>0.857941</td>\n",
              "      <td>0.578059</td>\n",
              "      <td>0.000000</td>\n",
              "      <td>0.009388</td>\n",
              "      <td>0.0</td>\n",
              "      <td>0.367761</td>\n",
              "      <td>0.135266</td>\n",
              "      <td>0.5</td>\n",
              "      <td>0.015750</td>\n",
              "    </tr>\n",
              "    <tr>\n",
              "      <th>199996</th>\n",
              "      <td>581</td>\n",
              "      <td>0.455924</td>\n",
              "      <td>0.547676</td>\n",
              "      <td>0.103586</td>\n",
              "      <td>0.634539</td>\n",
              "      <td>0.162160</td>\n",
              "      <td>0.206304</td>\n",
              "      <td>0.457544</td>\n",
              "      <td>0.0</td>\n",
              "      <td>0.0</td>\n",
              "      <td>0.00</td>\n",
              "      <td>0.500</td>\n",
              "      <td>0.525692</td>\n",
              "      <td>0.359684</td>\n",
              "      <td>0.05</td>\n",
              "      <td>0.111111</td>\n",
              "      <td>1.0</td>\n",
              "      <td>0.566929</td>\n",
              "      <td>0.0</td>\n",
              "      <td>0.858181</td>\n",
              "      <td>0.578059</td>\n",
              "      <td>0.000000</td>\n",
              "      <td>0.009388</td>\n",
              "      <td>0.0</td>\n",
              "      <td>0.367989</td>\n",
              "      <td>0.135266</td>\n",
              "      <td>0.5</td>\n",
              "      <td>0.015851</td>\n",
              "    </tr>\n",
              "    <tr>\n",
              "      <th>199997</th>\n",
              "      <td>582</td>\n",
              "      <td>0.461346</td>\n",
              "      <td>0.709482</td>\n",
              "      <td>0.103586</td>\n",
              "      <td>0.634539</td>\n",
              "      <td>0.162160</td>\n",
              "      <td>0.206304</td>\n",
              "      <td>0.457544</td>\n",
              "      <td>0.0</td>\n",
              "      <td>0.0</td>\n",
              "      <td>0.00</td>\n",
              "      <td>0.500</td>\n",
              "      <td>0.525692</td>\n",
              "      <td>0.359684</td>\n",
              "      <td>0.05</td>\n",
              "      <td>0.111111</td>\n",
              "      <td>1.0</td>\n",
              "      <td>0.566929</td>\n",
              "      <td>0.0</td>\n",
              "      <td>0.858181</td>\n",
              "      <td>0.578059</td>\n",
              "      <td>1.000000</td>\n",
              "      <td>0.009388</td>\n",
              "      <td>0.0</td>\n",
              "      <td>0.367077</td>\n",
              "      <td>0.135266</td>\n",
              "      <td>0.5</td>\n",
              "      <td>0.015985</td>\n",
              "    </tr>\n",
              "    <tr>\n",
              "      <th>199998</th>\n",
              "      <td>583</td>\n",
              "      <td>0.468570</td>\n",
              "      <td>0.796580</td>\n",
              "      <td>0.103586</td>\n",
              "      <td>0.634539</td>\n",
              "      <td>0.162160</td>\n",
              "      <td>0.206304</td>\n",
              "      <td>0.457544</td>\n",
              "      <td>0.0</td>\n",
              "      <td>0.0</td>\n",
              "      <td>0.00</td>\n",
              "      <td>0.500</td>\n",
              "      <td>0.525692</td>\n",
              "      <td>0.359684</td>\n",
              "      <td>0.05</td>\n",
              "      <td>0.111111</td>\n",
              "      <td>1.0</td>\n",
              "      <td>0.566929</td>\n",
              "      <td>0.0</td>\n",
              "      <td>0.858181</td>\n",
              "      <td>0.578059</td>\n",
              "      <td>1.000000</td>\n",
              "      <td>0.009388</td>\n",
              "      <td>0.0</td>\n",
              "      <td>0.367077</td>\n",
              "      <td>0.135266</td>\n",
              "      <td>0.5</td>\n",
              "      <td>0.016190</td>\n",
              "    </tr>\n",
              "    <tr>\n",
              "      <th>199999</th>\n",
              "      <td>584</td>\n",
              "      <td>0.476882</td>\n",
              "      <td>0.549001</td>\n",
              "      <td>0.103586</td>\n",
              "      <td>0.634539</td>\n",
              "      <td>0.162160</td>\n",
              "      <td>0.206304</td>\n",
              "      <td>0.457544</td>\n",
              "      <td>0.0</td>\n",
              "      <td>0.0</td>\n",
              "      <td>0.00</td>\n",
              "      <td>0.484</td>\n",
              "      <td>0.517787</td>\n",
              "      <td>0.363636</td>\n",
              "      <td>0.05</td>\n",
              "      <td>0.111111</td>\n",
              "      <td>1.0</td>\n",
              "      <td>0.566929</td>\n",
              "      <td>0.0</td>\n",
              "      <td>0.857622</td>\n",
              "      <td>0.578059</td>\n",
              "      <td>0.326948</td>\n",
              "      <td>0.009388</td>\n",
              "      <td>0.0</td>\n",
              "      <td>0.367533</td>\n",
              "      <td>0.135266</td>\n",
              "      <td>0.5</td>\n",
              "      <td>0.016301</td>\n",
              "    </tr>\n",
              "  </tbody>\n",
              "</table>\n",
              "<p>200000 rows × 28 columns</p>\n",
              "</div>\n",
              "      <button class=\"colab-df-convert\" onclick=\"convertToInteractive('df-533d8c0a-661c-4811-9f9a-f1cb36facd9a')\"\n",
              "              title=\"Convert this dataframe to an interactive table.\"\n",
              "              style=\"display:none;\">\n",
              "        \n",
              "  <svg xmlns=\"http://www.w3.org/2000/svg\" height=\"24px\"viewBox=\"0 0 24 24\"\n",
              "       width=\"24px\">\n",
              "    <path d=\"M0 0h24v24H0V0z\" fill=\"none\"/>\n",
              "    <path d=\"M18.56 5.44l.94 2.06.94-2.06 2.06-.94-2.06-.94-.94-2.06-.94 2.06-2.06.94zm-11 1L8.5 8.5l.94-2.06 2.06-.94-2.06-.94L8.5 2.5l-.94 2.06-2.06.94zm10 10l.94 2.06.94-2.06 2.06-.94-2.06-.94-.94-2.06-.94 2.06-2.06.94z\"/><path d=\"M17.41 7.96l-1.37-1.37c-.4-.4-.92-.59-1.43-.59-.52 0-1.04.2-1.43.59L10.3 9.45l-7.72 7.72c-.78.78-.78 2.05 0 2.83L4 21.41c.39.39.9.59 1.41.59.51 0 1.02-.2 1.41-.59l7.78-7.78 2.81-2.81c.8-.78.8-2.07 0-2.86zM5.41 20L4 18.59l7.72-7.72 1.47 1.35L5.41 20z\"/>\n",
              "  </svg>\n",
              "      </button>\n",
              "      \n",
              "  <style>\n",
              "    .colab-df-container {\n",
              "      display:flex;\n",
              "      flex-wrap:wrap;\n",
              "      gap: 12px;\n",
              "    }\n",
              "\n",
              "    .colab-df-convert {\n",
              "      background-color: #E8F0FE;\n",
              "      border: none;\n",
              "      border-radius: 50%;\n",
              "      cursor: pointer;\n",
              "      display: none;\n",
              "      fill: #1967D2;\n",
              "      height: 32px;\n",
              "      padding: 0 0 0 0;\n",
              "      width: 32px;\n",
              "    }\n",
              "\n",
              "    .colab-df-convert:hover {\n",
              "      background-color: #E2EBFA;\n",
              "      box-shadow: 0px 1px 2px rgba(60, 64, 67, 0.3), 0px 1px 3px 1px rgba(60, 64, 67, 0.15);\n",
              "      fill: #174EA6;\n",
              "    }\n",
              "\n",
              "    [theme=dark] .colab-df-convert {\n",
              "      background-color: #3B4455;\n",
              "      fill: #D2E3FC;\n",
              "    }\n",
              "\n",
              "    [theme=dark] .colab-df-convert:hover {\n",
              "      background-color: #434B5C;\n",
              "      box-shadow: 0px 1px 3px 1px rgba(0, 0, 0, 0.15);\n",
              "      filter: drop-shadow(0px 1px 2px rgba(0, 0, 0, 0.3));\n",
              "      fill: #FFFFFF;\n",
              "    }\n",
              "  </style>\n",
              "\n",
              "      <script>\n",
              "        const buttonEl =\n",
              "          document.querySelector('#df-533d8c0a-661c-4811-9f9a-f1cb36facd9a button.colab-df-convert');\n",
              "        buttonEl.style.display =\n",
              "          google.colab.kernel.accessAllowed ? 'block' : 'none';\n",
              "\n",
              "        async function convertToInteractive(key) {\n",
              "          const element = document.querySelector('#df-533d8c0a-661c-4811-9f9a-f1cb36facd9a');\n",
              "          const dataTable =\n",
              "            await google.colab.kernel.invokeFunction('convertToInteractive',\n",
              "                                                     [key], {});\n",
              "          if (!dataTable) return;\n",
              "\n",
              "          const docLinkHtml = 'Like what you see? Visit the ' +\n",
              "            '<a target=\"_blank\" href=https://colab.research.google.com/notebooks/data_table.ipynb>data table notebook</a>'\n",
              "            + ' to learn more about interactive tables.';\n",
              "          element.innerHTML = '';\n",
              "          dataTable['output_type'] = 'display_data';\n",
              "          await google.colab.output.renderOutput(dataTable, element);\n",
              "          const docLink = document.createElement('div');\n",
              "          docLink.innerHTML = docLinkHtml;\n",
              "          element.appendChild(docLink);\n",
              "        }\n",
              "      </script>\n",
              "    </div>\n",
              "  </div>\n",
              "  "
            ],
            "text/plain": [
              "        ObsNum        P1        P2        P3        P4        P5        P6  \\\n",
              "0            0  0.427060  0.662966  0.446215  0.199362  0.737452  0.128940   \n",
              "1            1  0.424283  0.734407  0.446215  0.199362  0.737452  0.128940   \n",
              "2            2  0.423614  0.769955  0.446215  0.199362  0.737452  0.131805   \n",
              "3            3  0.423591  0.642948  0.446215  0.199362  0.737452  0.131805   \n",
              "4            4  0.423505  0.760221  0.446215  0.199362  0.737452  0.131805   \n",
              "...        ...       ...       ...       ...       ...       ...       ...   \n",
              "199995     580  0.450931  0.852196  0.103586  0.634539  0.162160  0.206304   \n",
              "199996     581  0.455924  0.547676  0.103586  0.634539  0.162160  0.206304   \n",
              "199997     582  0.461346  0.709482  0.103586  0.634539  0.162160  0.206304   \n",
              "199998     583  0.468570  0.796580  0.103586  0.634539  0.162160  0.206304   \n",
              "199999     584  0.476882  0.549001  0.103586  0.634539  0.162160  0.206304   \n",
              "\n",
              "              P7   E1   E2    E3     E4        E5        E6    E7        E8  \\\n",
              "0       0.596951  0.0  0.0  0.25  0.460  0.494071  0.252964  0.05  0.111111   \n",
              "1       0.596951  0.0  0.0  0.25  0.460  0.494071  0.252964  0.05  0.111111   \n",
              "2       0.590859  0.0  0.0  0.25  0.460  0.494071  0.252964  0.05  0.111111   \n",
              "3       0.590859  0.0  0.0  0.25  0.460  0.494071  0.252964  0.05  0.111111   \n",
              "4       0.590859  0.0  0.0  0.25  0.460  0.494071  0.252964  0.05  0.111111   \n",
              "...          ...  ...  ...   ...    ...       ...       ...   ...       ...   \n",
              "199995  0.457544  0.0  0.0  0.00  0.500  0.525692  0.359684  0.05  0.111111   \n",
              "199996  0.457544  0.0  0.0  0.00  0.500  0.525692  0.359684  0.05  0.111111   \n",
              "199997  0.457544  0.0  0.0  0.00  0.500  0.525692  0.359684  0.05  0.111111   \n",
              "199998  0.457544  0.0  0.0  0.00  0.500  0.525692  0.359684  0.05  0.111111   \n",
              "199999  0.457544  0.0  0.0  0.00  0.484  0.517787  0.363636  0.05  0.111111   \n",
              "\n",
              "         E9       E10  E11        V1        V2        V3        V4   V5  \\\n",
              "0       1.0  0.448819  0.0  0.814182  0.599156  0.653895  0.012487  0.0   \n",
              "1       1.0  0.448819  0.0  0.814342  0.632911  0.653895  0.012487  0.0   \n",
              "2       1.0  0.448819  0.0  0.814262  0.611814  0.653895  0.012487  0.0   \n",
              "3       1.0  0.448819  0.0  0.814421  0.586498  0.653895  0.012487  0.0   \n",
              "4       1.0  0.448819  0.0  0.815060  0.599156  0.653895  0.012487  0.0   \n",
              "...     ...       ...  ...       ...       ...       ...       ...  ...   \n",
              "199995  1.0  0.566929  0.0  0.857941  0.578059  0.000000  0.009388  0.0   \n",
              "199996  1.0  0.566929  0.0  0.858181  0.578059  0.000000  0.009388  0.0   \n",
              "199997  1.0  0.566929  0.0  0.858181  0.578059  1.000000  0.009388  0.0   \n",
              "199998  1.0  0.566929  0.0  0.858181  0.578059  1.000000  0.009388  0.0   \n",
              "199999  1.0  0.566929  0.0  0.857622  0.578059  0.326948  0.009388  0.0   \n",
              "\n",
              "              V6        V8  V10       V11  \n",
              "0       0.341769  0.215781  0.5  0.036143  \n",
              "1       0.342225  0.215781  0.5  0.036034  \n",
              "2       0.343137  0.215781  0.5  0.036037  \n",
              "3       0.344049  0.215781  0.5  0.036009  \n",
              "4       0.344505  0.215781  0.5  0.036045  \n",
              "...          ...       ...  ...       ...  \n",
              "199995  0.367761  0.135266  0.5  0.015750  \n",
              "199996  0.367989  0.135266  0.5  0.015851  \n",
              "199997  0.367077  0.135266  0.5  0.015985  \n",
              "199998  0.367077  0.135266  0.5  0.016190  \n",
              "199999  0.367533  0.135266  0.5  0.016301  \n",
              "\n",
              "[200000 rows x 28 columns]"
            ]
          },
          "execution_count": 22,
          "metadata": {},
          "output_type": "execute_result"
        }
      ],
      "source": [
        "x"
      ]
    },
    {
      "cell_type": "markdown",
      "metadata": {
        "id": "b5vS3R75S6Or"
      },
      "source": [
        "### Spinning the data into training and validation sets"
      ]
    },
    {
      "cell_type": "code",
      "execution_count": 23,
      "metadata": {
        "id": "KGZBW9E-S6Or"
      },
      "outputs": [],
      "source": [
        "from sklearn.model_selection import train_test_split"
      ]
    },
    {
      "cell_type": "code",
      "execution_count": 24,
      "metadata": {
        "id": "nKIkAa93S6Os"
      },
      "outputs": [],
      "source": [
        "x_train, x_val, y_train, y_val = train_test_split(x, y , test_size=0.4, stratify=y, random_state=42)"
      ]
    },
    {
      "cell_type": "code",
      "execution_count": 25,
      "metadata": {
        "colab": {
          "base_uri": "https://localhost:8080/"
        },
        "id": "shn23YWfS6Os",
        "outputId": "f4512438-e0bd-4c48-abe7-bc378d505d39"
      },
      "outputs": [
        {
          "name": "stdout",
          "output_type": "stream",
          "text": [
            "(120000, 28)\n",
            "(120000,)\n"
          ]
        }
      ],
      "source": [
        "print(x_train.shape)\n",
        "print(y_train.shape)"
      ]
    },
    {
      "cell_type": "code",
      "execution_count": 26,
      "metadata": {
        "colab": {
          "base_uri": "https://localhost:8080/"
        },
        "id": "dHaml5cDS6Os",
        "outputId": "b6f68876-3a98-406f-a0fc-7b872851d0b4"
      },
      "outputs": [
        {
          "name": "stdout",
          "output_type": "stream",
          "text": [
            "(80000, 28)\n",
            "(80000,)\n"
          ]
        }
      ],
      "source": [
        "print(x_val.shape)\n",
        "print(y_val.shape)"
      ]
    },
    {
      "cell_type": "markdown",
      "metadata": {
        "id": "fLYHkYtBS6Os"
      },
      "source": [
        "### Training the model"
      ]
    },
    {
      "cell_type": "markdown",
      "metadata": {
        "id": "GCeY62X5S6Os"
      },
      "source": [
        "### 1. Random Forest"
      ]
    },
    {
      "cell_type": "code",
      "execution_count": 27,
      "metadata": {
        "id": "xoJffcohS6Ot"
      },
      "outputs": [],
      "source": [
        "rf_model = RandomForestClassifier(random_state=42)"
      ]
    },
    {
      "cell_type": "code",
      "execution_count": 28,
      "metadata": {
        "colab": {
          "base_uri": "https://localhost:8080/",
          "height": 111
        },
        "id": "Ic7usQ6wS6Ot",
        "outputId": "f42f201c-0fd8-44c2-c84d-66f8dcd1753a"
      },
      "outputs": [
        {
          "name": "stdout",
          "output_type": "stream",
          "text": [
            "CPU times: user 46.4 s, sys: 114 ms, total: 46.6 s\n",
            "Wall time: 56.4 s\n"
          ]
        },
        {
          "data": {
            "text/html": [
              "<style>#sk-container-id-2 {color: black;background-color: white;}#sk-container-id-2 pre{padding: 0;}#sk-container-id-2 div.sk-toggleable {background-color: white;}#sk-container-id-2 label.sk-toggleable__label {cursor: pointer;display: block;width: 100%;margin-bottom: 0;padding: 0.3em;box-sizing: border-box;text-align: center;}#sk-container-id-2 label.sk-toggleable__label-arrow:before {content: \"▸\";float: left;margin-right: 0.25em;color: #696969;}#sk-container-id-2 label.sk-toggleable__label-arrow:hover:before {color: black;}#sk-container-id-2 div.sk-estimator:hover label.sk-toggleable__label-arrow:before {color: black;}#sk-container-id-2 div.sk-toggleable__content {max-height: 0;max-width: 0;overflow: hidden;text-align: left;background-color: #f0f8ff;}#sk-container-id-2 div.sk-toggleable__content pre {margin: 0.2em;color: black;border-radius: 0.25em;background-color: #f0f8ff;}#sk-container-id-2 input.sk-toggleable__control:checked~div.sk-toggleable__content {max-height: 200px;max-width: 100%;overflow: auto;}#sk-container-id-2 input.sk-toggleable__control:checked~label.sk-toggleable__label-arrow:before {content: \"▾\";}#sk-container-id-2 div.sk-estimator input.sk-toggleable__control:checked~label.sk-toggleable__label {background-color: #d4ebff;}#sk-container-id-2 div.sk-label input.sk-toggleable__control:checked~label.sk-toggleable__label {background-color: #d4ebff;}#sk-container-id-2 input.sk-hidden--visually {border: 0;clip: rect(1px 1px 1px 1px);clip: rect(1px, 1px, 1px, 1px);height: 1px;margin: -1px;overflow: hidden;padding: 0;position: absolute;width: 1px;}#sk-container-id-2 div.sk-estimator {font-family: monospace;background-color: #f0f8ff;border: 1px dotted black;border-radius: 0.25em;box-sizing: border-box;margin-bottom: 0.5em;}#sk-container-id-2 div.sk-estimator:hover {background-color: #d4ebff;}#sk-container-id-2 div.sk-parallel-item::after {content: \"\";width: 100%;border-bottom: 1px solid gray;flex-grow: 1;}#sk-container-id-2 div.sk-label:hover label.sk-toggleable__label {background-color: #d4ebff;}#sk-container-id-2 div.sk-serial::before {content: \"\";position: absolute;border-left: 1px solid gray;box-sizing: border-box;top: 0;bottom: 0;left: 50%;z-index: 0;}#sk-container-id-2 div.sk-serial {display: flex;flex-direction: column;align-items: center;background-color: white;padding-right: 0.2em;padding-left: 0.2em;position: relative;}#sk-container-id-2 div.sk-item {position: relative;z-index: 1;}#sk-container-id-2 div.sk-parallel {display: flex;align-items: stretch;justify-content: center;background-color: white;position: relative;}#sk-container-id-2 div.sk-item::before, #sk-container-id-2 div.sk-parallel-item::before {content: \"\";position: absolute;border-left: 1px solid gray;box-sizing: border-box;top: 0;bottom: 0;left: 50%;z-index: -1;}#sk-container-id-2 div.sk-parallel-item {display: flex;flex-direction: column;z-index: 1;position: relative;background-color: white;}#sk-container-id-2 div.sk-parallel-item:first-child::after {align-self: flex-end;width: 50%;}#sk-container-id-2 div.sk-parallel-item:last-child::after {align-self: flex-start;width: 50%;}#sk-container-id-2 div.sk-parallel-item:only-child::after {width: 0;}#sk-container-id-2 div.sk-dashed-wrapped {border: 1px dashed gray;margin: 0 0.4em 0.5em 0.4em;box-sizing: border-box;padding-bottom: 0.4em;background-color: white;}#sk-container-id-2 div.sk-label label {font-family: monospace;font-weight: bold;display: inline-block;line-height: 1.2em;}#sk-container-id-2 div.sk-label-container {text-align: center;}#sk-container-id-2 div.sk-container {/* jupyter's `normalize.less` sets `[hidden] { display: none; }` but bootstrap.min.css set `[hidden] { display: none !important; }` so we also need the `!important` here to be able to override the default hidden behavior on the sphinx rendered scikit-learn.org. See: https://github.com/scikit-learn/scikit-learn/issues/21755 */display: inline-block !important;position: relative;}#sk-container-id-2 div.sk-text-repr-fallback {display: none;}</style><div id=\"sk-container-id-2\" class=\"sk-top-container\"><div class=\"sk-text-repr-fallback\"><pre>RandomForestClassifier(random_state=42)</pre><b>In a Jupyter environment, please rerun this cell to show the HTML representation or trust the notebook. <br />On GitHub, the HTML representation is unable to render, please try loading this page with nbviewer.org.</b></div><div class=\"sk-container\" hidden><div class=\"sk-item\"><div class=\"sk-estimator sk-toggleable\"><input class=\"sk-toggleable__control sk-hidden--visually\" id=\"sk-estimator-id-2\" type=\"checkbox\" checked><label for=\"sk-estimator-id-2\" class=\"sk-toggleable__label sk-toggleable__label-arrow\">RandomForestClassifier</label><div class=\"sk-toggleable__content\"><pre>RandomForestClassifier(random_state=42)</pre></div></div></div></div></div>"
            ],
            "text/plain": [
              "RandomForestClassifier(random_state=42)"
            ]
          },
          "execution_count": 28,
          "metadata": {},
          "output_type": "execute_result"
        }
      ],
      "source": [
        "%%time\n",
        "rf_model.fit(x_train, y_train)"
      ]
    },
    {
      "cell_type": "markdown",
      "metadata": {
        "id": "h5f5JzdOS6Ot"
      },
      "source": [
        "### Evaluation\n",
        "\n",
        "Let's evaluate the random forest using the accuracy score."
      ]
    },
    {
      "cell_type": "code",
      "execution_count": 29,
      "metadata": {
        "id": "dc79Asp-S6Ot"
      },
      "outputs": [],
      "source": [
        "from sklearn.metrics import confusion_matrix"
      ]
    },
    {
      "cell_type": "code",
      "execution_count": 30,
      "metadata": {
        "id": "MQ25o2K7S6Ot"
      },
      "outputs": [],
      "source": [
        "rf_train_preds = rf_model.predict(x_train)"
      ]
    },
    {
      "cell_type": "code",
      "execution_count": 31,
      "metadata": {
        "colab": {
          "base_uri": "https://localhost:8080/"
        },
        "id": "8aLaurPtS6Ot",
        "outputId": "a62580c4-d818-4b37-c5ce-bfbe706382f7"
      },
      "outputs": [
        {
          "data": {
            "text/plain": [
              "array([0, 1, 1, ..., 1, 1, 1])"
            ]
          },
          "execution_count": 31,
          "metadata": {},
          "output_type": "execute_result"
        }
      ],
      "source": [
        "rf_train_preds"
      ]
    },
    {
      "cell_type": "code",
      "execution_count": 32,
      "metadata": {
        "colab": {
          "base_uri": "https://localhost:8080/"
        },
        "id": "YkykZ6uDS6Ou",
        "outputId": "4bfb17b7-3b82-4d9a-b84d-41f28295f168"
      },
      "outputs": [
        {
          "data": {
            "text/plain": [
              "1    81309\n",
              "0    38691\n",
              "dtype: int64"
            ]
          },
          "execution_count": 32,
          "metadata": {},
          "output_type": "execute_result"
        }
      ],
      "source": [
        "pd.value_counts(rf_train_preds)"
      ]
    },
    {
      "cell_type": "code",
      "execution_count": 33,
      "metadata": {
        "id": "aazGUpyaS6Ou"
      },
      "outputs": [],
      "source": [
        "rf_train_probs = rf_model.predict_proba(x_train)"
      ]
    },
    {
      "cell_type": "code",
      "execution_count": 34,
      "metadata": {
        "colab": {
          "base_uri": "https://localhost:8080/"
        },
        "id": "ug6VETnIS6Ou",
        "outputId": "84ef7eab-76db-4af4-ff63-f70431b91b1e"
      },
      "outputs": [
        {
          "data": {
            "text/plain": [
              "array([[0.96, 0.04],\n",
              "       [0.  , 1.  ],\n",
              "       [0.08, 0.92],\n",
              "       ...,\n",
              "       [0.01, 0.99],\n",
              "       [0.  , 1.  ],\n",
              "       [0.03, 0.97]])"
            ]
          },
          "execution_count": 34,
          "metadata": {},
          "output_type": "execute_result"
        }
      ],
      "source": [
        "rf_train_probs"
      ]
    },
    {
      "cell_type": "markdown",
      "metadata": {
        "id": "r9GbWTPSS6Ou"
      },
      "source": [
        "Seems like the random forest is quite confident about its predictions.\n",
        "\n",
        "Let's check the accuracy of its predictions."
      ]
    },
    {
      "cell_type": "code",
      "execution_count": 35,
      "metadata": {
        "colab": {
          "base_uri": "https://localhost:8080/"
        },
        "id": "MCWfE8UQS6Ov",
        "outputId": "84940553-32bb-40da-c305-e0fb02be8dde"
      },
      "outputs": [
        {
          "data": {
            "text/plain": [
              "0.9999833333333333"
            ]
          },
          "execution_count": 35,
          "metadata": {},
          "output_type": "execute_result"
        }
      ],
      "source": [
        "accuracy_score(y_train, rf_train_preds)"
      ]
    },
    {
      "cell_type": "markdown",
      "metadata": {
        "id": "6l1iRmAXS6Ov"
      },
      "source": [
        "The training set accuracy is close to 100%! But we can't rely solely on the training set accuracy, we must evaluate the model on the validation set too. \n",
        "\n",
        "We can make predictions and compute accuracy in one step using `model.score`"
      ]
    },
    {
      "cell_type": "code",
      "execution_count": 36,
      "metadata": {
        "colab": {
          "base_uri": "https://localhost:8080/"
        },
        "id": "PF6TENltS6Ov",
        "outputId": "8baf5c3f-0d55-4bfb-adb5-e9aa7cca4bd9"
      },
      "outputs": [
        {
          "data": {
            "text/plain": [
              "0.988225"
            ]
          },
          "execution_count": 36,
          "metadata": {},
          "output_type": "execute_result"
        }
      ],
      "source": [
        "rf_model.score(x_val, y_val)"
      ]
    },
    {
      "cell_type": "markdown",
      "metadata": {
        "id": "4dSOHWPGS6Ow"
      },
      "source": [
        "Although the training accuracy is 100%, the accuracy on the validation set is just about 99%, which is better without any hypertuning. "
      ]
    },
    {
      "cell_type": "code",
      "execution_count": 37,
      "metadata": {
        "colab": {
          "base_uri": "https://localhost:8080/",
          "height": 74
        },
        "id": "utMfjEieS6Ow",
        "outputId": "0973cf94-e263-4078-ca13-fb854803dc39"
      },
      "outputs": [
        {
          "data": {
            "text/html": [
              "<style>#sk-container-id-3 {color: black;background-color: white;}#sk-container-id-3 pre{padding: 0;}#sk-container-id-3 div.sk-toggleable {background-color: white;}#sk-container-id-3 label.sk-toggleable__label {cursor: pointer;display: block;width: 100%;margin-bottom: 0;padding: 0.3em;box-sizing: border-box;text-align: center;}#sk-container-id-3 label.sk-toggleable__label-arrow:before {content: \"▸\";float: left;margin-right: 0.25em;color: #696969;}#sk-container-id-3 label.sk-toggleable__label-arrow:hover:before {color: black;}#sk-container-id-3 div.sk-estimator:hover label.sk-toggleable__label-arrow:before {color: black;}#sk-container-id-3 div.sk-toggleable__content {max-height: 0;max-width: 0;overflow: hidden;text-align: left;background-color: #f0f8ff;}#sk-container-id-3 div.sk-toggleable__content pre {margin: 0.2em;color: black;border-radius: 0.25em;background-color: #f0f8ff;}#sk-container-id-3 input.sk-toggleable__control:checked~div.sk-toggleable__content {max-height: 200px;max-width: 100%;overflow: auto;}#sk-container-id-3 input.sk-toggleable__control:checked~label.sk-toggleable__label-arrow:before {content: \"▾\";}#sk-container-id-3 div.sk-estimator input.sk-toggleable__control:checked~label.sk-toggleable__label {background-color: #d4ebff;}#sk-container-id-3 div.sk-label input.sk-toggleable__control:checked~label.sk-toggleable__label {background-color: #d4ebff;}#sk-container-id-3 input.sk-hidden--visually {border: 0;clip: rect(1px 1px 1px 1px);clip: rect(1px, 1px, 1px, 1px);height: 1px;margin: -1px;overflow: hidden;padding: 0;position: absolute;width: 1px;}#sk-container-id-3 div.sk-estimator {font-family: monospace;background-color: #f0f8ff;border: 1px dotted black;border-radius: 0.25em;box-sizing: border-box;margin-bottom: 0.5em;}#sk-container-id-3 div.sk-estimator:hover {background-color: #d4ebff;}#sk-container-id-3 div.sk-parallel-item::after {content: \"\";width: 100%;border-bottom: 1px solid gray;flex-grow: 1;}#sk-container-id-3 div.sk-label:hover label.sk-toggleable__label {background-color: #d4ebff;}#sk-container-id-3 div.sk-serial::before {content: \"\";position: absolute;border-left: 1px solid gray;box-sizing: border-box;top: 0;bottom: 0;left: 50%;z-index: 0;}#sk-container-id-3 div.sk-serial {display: flex;flex-direction: column;align-items: center;background-color: white;padding-right: 0.2em;padding-left: 0.2em;position: relative;}#sk-container-id-3 div.sk-item {position: relative;z-index: 1;}#sk-container-id-3 div.sk-parallel {display: flex;align-items: stretch;justify-content: center;background-color: white;position: relative;}#sk-container-id-3 div.sk-item::before, #sk-container-id-3 div.sk-parallel-item::before {content: \"\";position: absolute;border-left: 1px solid gray;box-sizing: border-box;top: 0;bottom: 0;left: 50%;z-index: -1;}#sk-container-id-3 div.sk-parallel-item {display: flex;flex-direction: column;z-index: 1;position: relative;background-color: white;}#sk-container-id-3 div.sk-parallel-item:first-child::after {align-self: flex-end;width: 50%;}#sk-container-id-3 div.sk-parallel-item:last-child::after {align-self: flex-start;width: 50%;}#sk-container-id-3 div.sk-parallel-item:only-child::after {width: 0;}#sk-container-id-3 div.sk-dashed-wrapped {border: 1px dashed gray;margin: 0 0.4em 0.5em 0.4em;box-sizing: border-box;padding-bottom: 0.4em;background-color: white;}#sk-container-id-3 div.sk-label label {font-family: monospace;font-weight: bold;display: inline-block;line-height: 1.2em;}#sk-container-id-3 div.sk-label-container {text-align: center;}#sk-container-id-3 div.sk-container {/* jupyter's `normalize.less` sets `[hidden] { display: none; }` but bootstrap.min.css set `[hidden] { display: none !important; }` so we also need the `!important` here to be able to override the default hidden behavior on the sphinx rendered scikit-learn.org. See: https://github.com/scikit-learn/scikit-learn/issues/21755 */display: inline-block !important;position: relative;}#sk-container-id-3 div.sk-text-repr-fallback {display: none;}</style><div id=\"sk-container-id-3\" class=\"sk-top-container\"><div class=\"sk-text-repr-fallback\"><pre>DecisionTreeClassifier(max_features=&#x27;sqrt&#x27;, random_state=1608637542)</pre><b>In a Jupyter environment, please rerun this cell to show the HTML representation or trust the notebook. <br />On GitHub, the HTML representation is unable to render, please try loading this page with nbviewer.org.</b></div><div class=\"sk-container\" hidden><div class=\"sk-item\"><div class=\"sk-estimator sk-toggleable\"><input class=\"sk-toggleable__control sk-hidden--visually\" id=\"sk-estimator-id-3\" type=\"checkbox\" checked><label for=\"sk-estimator-id-3\" class=\"sk-toggleable__label sk-toggleable__label-arrow\">DecisionTreeClassifier</label><div class=\"sk-toggleable__content\"><pre>DecisionTreeClassifier(max_features=&#x27;sqrt&#x27;, random_state=1608637542)</pre></div></div></div></div></div>"
            ],
            "text/plain": [
              "DecisionTreeClassifier(max_features='sqrt', random_state=1608637542)"
            ]
          },
          "execution_count": 37,
          "metadata": {},
          "output_type": "execute_result"
        }
      ],
      "source": [
        "rf_model.estimators_[0]"
      ]
    },
    {
      "cell_type": "code",
      "execution_count": 38,
      "metadata": {
        "colab": {
          "base_uri": "https://localhost:8080/"
        },
        "id": "z0WGPcKcS6Ow",
        "outputId": "ee6b92db-dcba-43cb-edb5-920b31e61349"
      },
      "outputs": [
        {
          "data": {
            "text/plain": [
              "100"
            ]
          },
          "execution_count": 38,
          "metadata": {},
          "output_type": "execute_result"
        }
      ],
      "source": [
        "len(rf_model.estimators_)"
      ]
    },
    {
      "cell_type": "markdown",
      "metadata": {
        "id": "M6bbsn-mS6Ox"
      },
      "source": [
        "Random forests assign an \"importance\" to each feature, by combining the importance values from individual trees."
      ]
    },
    {
      "cell_type": "code",
      "execution_count": 39,
      "metadata": {
        "id": "pKJh79EIS6Ox"
      },
      "outputs": [],
      "source": [
        "importance_df = pd.DataFrame({\n",
        "    'feature': x_train.columns,\n",
        "    'importance': rf_model.feature_importances_\n",
        "}).sort_values('importance', ascending=False)"
      ]
    },
    {
      "cell_type": "code",
      "execution_count": 40,
      "metadata": {
        "colab": {
          "base_uri": "https://localhost:8080/",
          "height": 363
        },
        "id": "NS6CffNQS6Oy",
        "outputId": "cfcbaf48-37c3-4004-86c0-160f50a791fa"
      },
      "outputs": [
        {
          "data": {
            "text/html": [
              "\n",
              "  <div id=\"df-5e2162d3-cca9-4057-a5a6-f97148d9c2d0\">\n",
              "    <div class=\"colab-df-container\">\n",
              "      <div>\n",
              "<style scoped>\n",
              "    .dataframe tbody tr th:only-of-type {\n",
              "        vertical-align: middle;\n",
              "    }\n",
              "\n",
              "    .dataframe tbody tr th {\n",
              "        vertical-align: top;\n",
              "    }\n",
              "\n",
              "    .dataframe thead th {\n",
              "        text-align: right;\n",
              "    }\n",
              "</style>\n",
              "<table border=\"1\" class=\"dataframe\">\n",
              "  <thead>\n",
              "    <tr style=\"text-align: right;\">\n",
              "      <th></th>\n",
              "      <th>feature</th>\n",
              "      <th>importance</th>\n",
              "    </tr>\n",
              "  </thead>\n",
              "  <tbody>\n",
              "    <tr>\n",
              "      <th>16</th>\n",
              "      <td>E9</td>\n",
              "      <td>0.139474</td>\n",
              "    </tr>\n",
              "    <tr>\n",
              "      <th>27</th>\n",
              "      <td>V11</td>\n",
              "      <td>0.114414</td>\n",
              "    </tr>\n",
              "    <tr>\n",
              "      <th>17</th>\n",
              "      <td>E10</td>\n",
              "      <td>0.113206</td>\n",
              "    </tr>\n",
              "    <tr>\n",
              "      <th>15</th>\n",
              "      <td>E8</td>\n",
              "      <td>0.101666</td>\n",
              "    </tr>\n",
              "    <tr>\n",
              "      <th>14</th>\n",
              "      <td>E7</td>\n",
              "      <td>0.054850</td>\n",
              "    </tr>\n",
              "    <tr>\n",
              "      <th>7</th>\n",
              "      <td>P7</td>\n",
              "      <td>0.045821</td>\n",
              "    </tr>\n",
              "    <tr>\n",
              "      <th>6</th>\n",
              "      <td>P6</td>\n",
              "      <td>0.043837</td>\n",
              "    </tr>\n",
              "    <tr>\n",
              "      <th>19</th>\n",
              "      <td>V1</td>\n",
              "      <td>0.037652</td>\n",
              "    </tr>\n",
              "    <tr>\n",
              "      <th>13</th>\n",
              "      <td>E6</td>\n",
              "      <td>0.034677</td>\n",
              "    </tr>\n",
              "    <tr>\n",
              "      <th>5</th>\n",
              "      <td>P5</td>\n",
              "      <td>0.034629</td>\n",
              "    </tr>\n",
              "  </tbody>\n",
              "</table>\n",
              "</div>\n",
              "      <button class=\"colab-df-convert\" onclick=\"convertToInteractive('df-5e2162d3-cca9-4057-a5a6-f97148d9c2d0')\"\n",
              "              title=\"Convert this dataframe to an interactive table.\"\n",
              "              style=\"display:none;\">\n",
              "        \n",
              "  <svg xmlns=\"http://www.w3.org/2000/svg\" height=\"24px\"viewBox=\"0 0 24 24\"\n",
              "       width=\"24px\">\n",
              "    <path d=\"M0 0h24v24H0V0z\" fill=\"none\"/>\n",
              "    <path d=\"M18.56 5.44l.94 2.06.94-2.06 2.06-.94-2.06-.94-.94-2.06-.94 2.06-2.06.94zm-11 1L8.5 8.5l.94-2.06 2.06-.94-2.06-.94L8.5 2.5l-.94 2.06-2.06.94zm10 10l.94 2.06.94-2.06 2.06-.94-2.06-.94-.94-2.06-.94 2.06-2.06.94z\"/><path d=\"M17.41 7.96l-1.37-1.37c-.4-.4-.92-.59-1.43-.59-.52 0-1.04.2-1.43.59L10.3 9.45l-7.72 7.72c-.78.78-.78 2.05 0 2.83L4 21.41c.39.39.9.59 1.41.59.51 0 1.02-.2 1.41-.59l7.78-7.78 2.81-2.81c.8-.78.8-2.07 0-2.86zM5.41 20L4 18.59l7.72-7.72 1.47 1.35L5.41 20z\"/>\n",
              "  </svg>\n",
              "      </button>\n",
              "      \n",
              "  <style>\n",
              "    .colab-df-container {\n",
              "      display:flex;\n",
              "      flex-wrap:wrap;\n",
              "      gap: 12px;\n",
              "    }\n",
              "\n",
              "    .colab-df-convert {\n",
              "      background-color: #E8F0FE;\n",
              "      border: none;\n",
              "      border-radius: 50%;\n",
              "      cursor: pointer;\n",
              "      display: none;\n",
              "      fill: #1967D2;\n",
              "      height: 32px;\n",
              "      padding: 0 0 0 0;\n",
              "      width: 32px;\n",
              "    }\n",
              "\n",
              "    .colab-df-convert:hover {\n",
              "      background-color: #E2EBFA;\n",
              "      box-shadow: 0px 1px 2px rgba(60, 64, 67, 0.3), 0px 1px 3px 1px rgba(60, 64, 67, 0.15);\n",
              "      fill: #174EA6;\n",
              "    }\n",
              "\n",
              "    [theme=dark] .colab-df-convert {\n",
              "      background-color: #3B4455;\n",
              "      fill: #D2E3FC;\n",
              "    }\n",
              "\n",
              "    [theme=dark] .colab-df-convert:hover {\n",
              "      background-color: #434B5C;\n",
              "      box-shadow: 0px 1px 3px 1px rgba(0, 0, 0, 0.15);\n",
              "      filter: drop-shadow(0px 1px 2px rgba(0, 0, 0, 0.3));\n",
              "      fill: #FFFFFF;\n",
              "    }\n",
              "  </style>\n",
              "\n",
              "      <script>\n",
              "        const buttonEl =\n",
              "          document.querySelector('#df-5e2162d3-cca9-4057-a5a6-f97148d9c2d0 button.colab-df-convert');\n",
              "        buttonEl.style.display =\n",
              "          google.colab.kernel.accessAllowed ? 'block' : 'none';\n",
              "\n",
              "        async function convertToInteractive(key) {\n",
              "          const element = document.querySelector('#df-5e2162d3-cca9-4057-a5a6-f97148d9c2d0');\n",
              "          const dataTable =\n",
              "            await google.colab.kernel.invokeFunction('convertToInteractive',\n",
              "                                                     [key], {});\n",
              "          if (!dataTable) return;\n",
              "\n",
              "          const docLinkHtml = 'Like what you see? Visit the ' +\n",
              "            '<a target=\"_blank\" href=https://colab.research.google.com/notebooks/data_table.ipynb>data table notebook</a>'\n",
              "            + ' to learn more about interactive tables.';\n",
              "          element.innerHTML = '';\n",
              "          dataTable['output_type'] = 'display_data';\n",
              "          await google.colab.output.renderOutput(dataTable, element);\n",
              "          const docLink = document.createElement('div');\n",
              "          docLink.innerHTML = docLinkHtml;\n",
              "          element.appendChild(docLink);\n",
              "        }\n",
              "      </script>\n",
              "    </div>\n",
              "  </div>\n",
              "  "
            ],
            "text/plain": [
              "   feature  importance\n",
              "16      E9    0.139474\n",
              "27     V11    0.114414\n",
              "17     E10    0.113206\n",
              "15      E8    0.101666\n",
              "14      E7    0.054850\n",
              "7       P7    0.045821\n",
              "6       P6    0.043837\n",
              "19      V1    0.037652\n",
              "13      E6    0.034677\n",
              "5       P5    0.034629"
            ]
          },
          "execution_count": 40,
          "metadata": {},
          "output_type": "execute_result"
        }
      ],
      "source": [
        "importance_df.head(10)"
      ]
    },
    {
      "cell_type": "code",
      "execution_count": 41,
      "metadata": {
        "colab": {
          "base_uri": "https://localhost:8080/",
          "height": 313
        },
        "id": "RGSQ6f4qS6Oy",
        "outputId": "78a1b82a-46df-4687-9344-68c04c4b610f"
      },
      "outputs": [
        {
          "data": {
            "text/plain": [
              "<matplotlib.axes._subplots.AxesSubplot at 0x7f2c3724c4c0>"
            ]
          },
          "execution_count": 41,
          "metadata": {},
          "output_type": "execute_result"
        },
        {
          "data": {
            "image/png": "[encoded data removed]",
            "text/plain": [
              "<Figure size 432x288 with 1 Axes>"
            ]
          },
          "metadata": {
            "needs_background": "light"
          },
          "output_type": "display_data"
        }
      ],
      "source": [
        "plt.title('Feature Importance')\n",
        "sns.barplot(data=importance_df.head(10), x='importance', y='feature')"
      ]
    },
    {
      "cell_type": "markdown",
      "metadata": {
        "id": "uA89bXuqS6Oy"
      },
      "source": [
        "## Hyperparameter Tuning with Random Forests\n",
        "\n",
        "Just like decision trees, random forests also have several hyperparameters. In fact many of these hyperparameters are applied to the underlying decision trees. \n",
        "\n",
        "Let's study some the hyperparameters for random forests. You can learn more about them here: https://scikit-learn.org/stable/modules/generated/sklearn.ensemble.RandomForestClassifier.html"
      ]
    },
    {
      "cell_type": "code",
      "execution_count": 42,
      "metadata": {
        "id": "hJ_PTCNLS6Oy"
      },
      "outputs": [],
      "source": [
        "?RandomForestClassifier"
      ]
    },
    {
      "cell_type": "code",
      "execution_count": 43,
      "metadata": {
        "id": "pagcN8DhS6Oz"
      },
      "outputs": [],
      "source": [
        "base_model = RandomForestClassifier(random_state=42, n_jobs=-1).fit(x_train, y_train)"
      ]
    },
    {
      "cell_type": "code",
      "execution_count": 44,
      "metadata": {
        "id": "k3PeXrCVS6Oz"
      },
      "outputs": [],
      "source": [
        "base_train_acc = base_model.score(x_train, y_train)\n",
        "base_val_acc = base_model.score(x_val, y_val)"
      ]
    },
    {
      "cell_type": "code",
      "execution_count": 45,
      "metadata": {
        "colab": {
          "base_uri": "https://localhost:8080/"
        },
        "id": "_XInDqmPS6Oz",
        "outputId": "d4d21ae2-ef2a-40f7-9bbd-b4f133dadfdc"
      },
      "outputs": [
        {
          "data": {
            "text/plain": [
              "(0.9999833333333333, 0.988225)"
            ]
          },
          "execution_count": 45,
          "metadata": {},
          "output_type": "execute_result"
        }
      ],
      "source": [
        "base_accs = base_train_acc, base_val_acc\n",
        "base_accs"
      ]
    },
    {
      "cell_type": "code",
      "execution_count": 46,
      "metadata": {
        "id": "a7I5Q8DoS6Oz"
      },
      "outputs": [],
      "source": [
        "rf_model = RandomForestClassifier(bootstrap=True, class_weight=None, criterion='gini',\n",
        "            max_depth=300, max_features=0.2, max_leaf_nodes=None,\n",
        "            min_impurity_decrease=0.0,\n",
        "            min_samples_leaf=10, min_samples_split=20,\n",
        "            min_weight_fraction_leaf=0.0, n_estimators=400, n_jobs=-1,\n",
        "            oob_score=False, random_state=42, verbose=0, warm_start=False)"
      ]
    },
    {
      "cell_type": "code",
      "execution_count": 47,
      "metadata": {
        "colab": {
          "base_uri": "https://localhost:8080/",
          "height": 109
        },
        "id": "6Uv5cRL6S6Oz",
        "outputId": "76dc6c3f-90a8-4ec5-91fc-dcb5aa0a67a4"
      },
      "outputs": [
        {
          "data": {
            "text/html": [
              "<style>#sk-container-id-4 {color: black;background-color: white;}#sk-container-id-4 pre{padding: 0;}#sk-container-id-4 div.sk-toggleable {background-color: white;}#sk-container-id-4 label.sk-toggleable__label {cursor: pointer;display: block;width: 100%;margin-bottom: 0;padding: 0.3em;box-sizing: border-box;text-align: center;}#sk-container-id-4 label.sk-toggleable__label-arrow:before {content: \"▸\";float: left;margin-right: 0.25em;color: #696969;}#sk-container-id-4 label.sk-toggleable__label-arrow:hover:before {color: black;}#sk-container-id-4 div.sk-estimator:hover label.sk-toggleable__label-arrow:before {color: black;}#sk-container-id-4 div.sk-toggleable__content {max-height: 0;max-width: 0;overflow: hidden;text-align: left;background-color: #f0f8ff;}#sk-container-id-4 div.sk-toggleable__content pre {margin: 0.2em;color: black;border-radius: 0.25em;background-color: #f0f8ff;}#sk-container-id-4 input.sk-toggleable__control:checked~div.sk-toggleable__content {max-height: 200px;max-width: 100%;overflow: auto;}#sk-container-id-4 input.sk-toggleable__control:checked~label.sk-toggleable__label-arrow:before {content: \"▾\";}#sk-container-id-4 div.sk-estimator input.sk-toggleable__control:checked~label.sk-toggleable__label {background-color: #d4ebff;}#sk-container-id-4 div.sk-label input.sk-toggleable__control:checked~label.sk-toggleable__label {background-color: #d4ebff;}#sk-container-id-4 input.sk-hidden--visually {border: 0;clip: rect(1px 1px 1px 1px);clip: rect(1px, 1px, 1px, 1px);height: 1px;margin: -1px;overflow: hidden;padding: 0;position: absolute;width: 1px;}#sk-container-id-4 div.sk-estimator {font-family: monospace;background-color: #f0f8ff;border: 1px dotted black;border-radius: 0.25em;box-sizing: border-box;margin-bottom: 0.5em;}#sk-container-id-4 div.sk-estimator:hover {background-color: #d4ebff;}#sk-container-id-4 div.sk-parallel-item::after {content: \"\";width: 100%;border-bottom: 1px solid gray;flex-grow: 1;}#sk-container-id-4 div.sk-label:hover label.sk-toggleable__label {background-color: #d4ebff;}#sk-container-id-4 div.sk-serial::before {content: \"\";position: absolute;border-left: 1px solid gray;box-sizing: border-box;top: 0;bottom: 0;left: 50%;z-index: 0;}#sk-container-id-4 div.sk-serial {display: flex;flex-direction: column;align-items: center;background-color: white;padding-right: 0.2em;padding-left: 0.2em;position: relative;}#sk-container-id-4 div.sk-item {position: relative;z-index: 1;}#sk-container-id-4 div.sk-parallel {display: flex;align-items: stretch;justify-content: center;background-color: white;position: relative;}#sk-container-id-4 div.sk-item::before, #sk-container-id-4 div.sk-parallel-item::before {content: \"\";position: absolute;border-left: 1px solid gray;box-sizing: border-box;top: 0;bottom: 0;left: 50%;z-index: -1;}#sk-container-id-4 div.sk-parallel-item {display: flex;flex-direction: column;z-index: 1;position: relative;background-color: white;}#sk-container-id-4 div.sk-parallel-item:first-child::after {align-self: flex-end;width: 50%;}#sk-container-id-4 div.sk-parallel-item:last-child::after {align-self: flex-start;width: 50%;}#sk-container-id-4 div.sk-parallel-item:only-child::after {width: 0;}#sk-container-id-4 div.sk-dashed-wrapped {border: 1px dashed gray;margin: 0 0.4em 0.5em 0.4em;box-sizing: border-box;padding-bottom: 0.4em;background-color: white;}#sk-container-id-4 div.sk-label label {font-family: monospace;font-weight: bold;display: inline-block;line-height: 1.2em;}#sk-container-id-4 div.sk-label-container {text-align: center;}#sk-container-id-4 div.sk-container {/* jupyter's `normalize.less` sets `[hidden] { display: none; }` but bootstrap.min.css set `[hidden] { display: none !important; }` so we also need the `!important` here to be able to override the default hidden behavior on the sphinx rendered scikit-learn.org. See: https://github.com/scikit-learn/scikit-learn/issues/21755 */display: inline-block !important;position: relative;}#sk-container-id-4 div.sk-text-repr-fallback {display: none;}</style><div id=\"sk-container-id-4\" class=\"sk-top-container\"><div class=\"sk-text-repr-fallback\"><pre>RandomForestClassifier(max_depth=300, max_features=0.2, min_samples_leaf=10,\n",
              "                       min_samples_split=20, n_estimators=400, n_jobs=-1,\n",
              "                       random_state=42)</pre><b>In a Jupyter environment, please rerun this cell to show the HTML representation or trust the notebook. <br />On GitHub, the HTML representation is unable to render, please try loading this page with nbviewer.org.</b></div><div class=\"sk-container\" hidden><div class=\"sk-item\"><div class=\"sk-estimator sk-toggleable\"><input class=\"sk-toggleable__control sk-hidden--visually\" id=\"sk-estimator-id-4\" type=\"checkbox\" checked><label for=\"sk-estimator-id-4\" class=\"sk-toggleable__label sk-toggleable__label-arrow\">RandomForestClassifier</label><div class=\"sk-toggleable__content\"><pre>RandomForestClassifier(max_depth=300, max_features=0.2, min_samples_leaf=10,\n",
              "                       min_samples_split=20, n_estimators=400, n_jobs=-1,\n",
              "                       random_state=42)</pre></div></div></div></div></div>"
            ],
            "text/plain": [
              "RandomForestClassifier(max_depth=300, max_features=0.2, min_samples_leaf=10,\n",
              "                       min_samples_split=20, n_estimators=400, n_jobs=-1,\n",
              "                       random_state=42)"
            ]
          },
          "execution_count": 47,
          "metadata": {},
          "output_type": "execute_result"
        }
      ],
      "source": [
        "rf_model.fit(x_train, y_train)"
      ]
    },
    {
      "cell_type": "code",
      "execution_count": 48,
      "metadata": {
        "colab": {
          "base_uri": "https://localhost:8080/"
        },
        "id": "I5HMGtkBS6O3",
        "outputId": "77cab971-8ec6-4c0b-f8e1-aed221abcdcf"
      },
      "outputs": [
        {
          "data": {
            "text/plain": [
              "(0.96745, 0.9604125)"
            ]
          },
          "execution_count": 48,
          "metadata": {},
          "output_type": "execute_result"
        }
      ],
      "source": [
        "rf_model.score(x_train, y_train), rf_model.score(x_val, y_val)"
      ]
    },
    {
      "cell_type": "code",
      "execution_count": 49,
      "metadata": {
        "colab": {
          "base_uri": "https://localhost:8080/"
        },
        "id": "yydOiMWXS6O3",
        "outputId": "f8132957-3847-45ee-929f-56e96740ed0c"
      },
      "outputs": [
        {
          "data": {
            "text/plain": [
              "(0.9999833333333333, 0.988225)"
            ]
          },
          "execution_count": 49,
          "metadata": {},
          "output_type": "execute_result"
        }
      ],
      "source": [
        "base_accs"
      ]
    },
    {
      "cell_type": "markdown",
      "metadata": {
        "id": "Z_bFp-16S6O3"
      },
      "source": [
        "Even after doing, hypertuning the random forest, the accuracy on the validation set is better in base model is better."
      ]
    },
    {
      "cell_type": "markdown",
      "metadata": {
        "id": "nmfzwN3bS6O3"
      },
      "source": [
        "### Lets do the same with Decision Tree Classifier."
      ]
    },
    {
      "cell_type": "code",
      "execution_count": 50,
      "metadata": {
        "id": "K8DAYRtSS6O3"
      },
      "outputs": [],
      "source": [
        "dt_model = DecisionTreeClassifier(random_state=42)"
      ]
    },
    {
      "cell_type": "code",
      "execution_count": 51,
      "metadata": {
        "colab": {
          "base_uri": "https://localhost:8080/",
          "height": 111
        },
        "id": "ZlSWqg-7S6O4",
        "outputId": "435a6b5f-123a-4ce5-91c6-8e10e7b00040"
      },
      "outputs": [
        {
          "name": "stdout",
          "output_type": "stream",
          "text": [
            "CPU times: user 3.86 s, sys: 8.04 ms, total: 3.87 s\n",
            "Wall time: 3.93 s\n"
          ]
        },
        {
          "data": {
            "text/html": [
              "<style>#sk-container-id-5 {color: black;background-color: white;}#sk-container-id-5 pre{padding: 0;}#sk-container-id-5 div.sk-toggleable {background-color: white;}#sk-container-id-5 label.sk-toggleable__label {cursor: pointer;display: block;width: 100%;margin-bottom: 0;padding: 0.3em;box-sizing: border-box;text-align: center;}#sk-container-id-5 label.sk-toggleable__label-arrow:before {content: \"▸\";float: left;margin-right: 0.25em;color: #696969;}#sk-container-id-5 label.sk-toggleable__label-arrow:hover:before {color: black;}#sk-container-id-5 div.sk-estimator:hover label.sk-toggleable__label-arrow:before {color: black;}#sk-container-id-5 div.sk-toggleable__content {max-height: 0;max-width: 0;overflow: hidden;text-align: left;background-color: #f0f8ff;}#sk-container-id-5 div.sk-toggleable__content pre {margin: 0.2em;color: black;border-radius: 0.25em;background-color: #f0f8ff;}#sk-container-id-5 input.sk-toggleable__control:checked~div.sk-toggleable__content {max-height: 200px;max-width: 100%;overflow: auto;}#sk-container-id-5 input.sk-toggleable__control:checked~label.sk-toggleable__label-arrow:before {content: \"▾\";}#sk-container-id-5 div.sk-estimator input.sk-toggleable__control:checked~label.sk-toggleable__label {background-color: #d4ebff;}#sk-container-id-5 div.sk-label input.sk-toggleable__control:checked~label.sk-toggleable__label {background-color: #d4ebff;}#sk-container-id-5 input.sk-hidden--visually {border: 0;clip: rect(1px 1px 1px 1px);clip: rect(1px, 1px, 1px, 1px);height: 1px;margin: -1px;overflow: hidden;padding: 0;position: absolute;width: 1px;}#sk-container-id-5 div.sk-estimator {font-family: monospace;background-color: #f0f8ff;border: 1px dotted black;border-radius: 0.25em;box-sizing: border-box;margin-bottom: 0.5em;}#sk-container-id-5 div.sk-estimator:hover {background-color: #d4ebff;}#sk-container-id-5 div.sk-parallel-item::after {content: \"\";width: 100%;border-bottom: 1px solid gray;flex-grow: 1;}#sk-container-id-5 div.sk-label:hover label.sk-toggleable__label {background-color: #d4ebff;}#sk-container-id-5 div.sk-serial::before {content: \"\";position: absolute;border-left: 1px solid gray;box-sizing: border-box;top: 0;bottom: 0;left: 50%;z-index: 0;}#sk-container-id-5 div.sk-serial {display: flex;flex-direction: column;align-items: center;background-color: white;padding-right: 0.2em;padding-left: 0.2em;position: relative;}#sk-container-id-5 div.sk-item {position: relative;z-index: 1;}#sk-container-id-5 div.sk-parallel {display: flex;align-items: stretch;justify-content: center;background-color: white;position: relative;}#sk-container-id-5 div.sk-item::before, #sk-container-id-5 div.sk-parallel-item::before {content: \"\";position: absolute;border-left: 1px solid gray;box-sizing: border-box;top: 0;bottom: 0;left: 50%;z-index: -1;}#sk-container-id-5 div.sk-parallel-item {display: flex;flex-direction: column;z-index: 1;position: relative;background-color: white;}#sk-container-id-5 div.sk-parallel-item:first-child::after {align-self: flex-end;width: 50%;}#sk-container-id-5 div.sk-parallel-item:last-child::after {align-self: flex-start;width: 50%;}#sk-container-id-5 div.sk-parallel-item:only-child::after {width: 0;}#sk-container-id-5 div.sk-dashed-wrapped {border: 1px dashed gray;margin: 0 0.4em 0.5em 0.4em;box-sizing: border-box;padding-bottom: 0.4em;background-color: white;}#sk-container-id-5 div.sk-label label {font-family: monospace;font-weight: bold;display: inline-block;line-height: 1.2em;}#sk-container-id-5 div.sk-label-container {text-align: center;}#sk-container-id-5 div.sk-container {/* jupyter's `normalize.less` sets `[hidden] { display: none; }` but bootstrap.min.css set `[hidden] { display: none !important; }` so we also need the `!important` here to be able to override the default hidden behavior on the sphinx rendered scikit-learn.org. See: https://github.com/scikit-learn/scikit-learn/issues/21755 */display: inline-block !important;position: relative;}#sk-container-id-5 div.sk-text-repr-fallback {display: none;}</style><div id=\"sk-container-id-5\" class=\"sk-top-container\"><div class=\"sk-text-repr-fallback\"><pre>DecisionTreeClassifier(random_state=42)</pre><b>In a Jupyter environment, please rerun this cell to show the HTML representation or trust the notebook. <br />On GitHub, the HTML representation is unable to render, please try loading this page with nbviewer.org.</b></div><div class=\"sk-container\" hidden><div class=\"sk-item\"><div class=\"sk-estimator sk-toggleable\"><input class=\"sk-toggleable__control sk-hidden--visually\" id=\"sk-estimator-id-5\" type=\"checkbox\" checked><label for=\"sk-estimator-id-5\" class=\"sk-toggleable__label sk-toggleable__label-arrow\">DecisionTreeClassifier</label><div class=\"sk-toggleable__content\"><pre>DecisionTreeClassifier(random_state=42)</pre></div></div></div></div></div>"
            ],
            "text/plain": [
              "DecisionTreeClassifier(random_state=42)"
            ]
          },
          "execution_count": 51,
          "metadata": {},
          "output_type": "execute_result"
        }
      ],
      "source": [
        "%%time\n",
        "dt_model.fit(x_train, y_train)"
      ]
    },
    {
      "cell_type": "code",
      "execution_count": 52,
      "metadata": {
        "id": "QQ7zxUdTS6O4"
      },
      "outputs": [],
      "source": [
        "dt_train_preds = dt_model.predict(x_train)"
      ]
    },
    {
      "cell_type": "code",
      "execution_count": 53,
      "metadata": {
        "colab": {
          "base_uri": "https://localhost:8080/"
        },
        "id": "uI6CsMEiS6O4",
        "outputId": "75cb26a1-3d4f-4639-ecca-cb3985101cc0"
      },
      "outputs": [
        {
          "data": {
            "text/plain": [
              "array([0, 1, 1, ..., 1, 1, 1])"
            ]
          },
          "execution_count": 53,
          "metadata": {},
          "output_type": "execute_result"
        }
      ],
      "source": [
        "dt_train_preds"
      ]
    },
    {
      "cell_type": "code",
      "execution_count": 54,
      "metadata": {
        "colab": {
          "base_uri": "https://localhost:8080/"
        },
        "id": "6ttCstnMS6O4",
        "outputId": "2a7ca39c-220b-4941-a83f-fb3d1550a5ed"
      },
      "outputs": [
        {
          "data": {
            "text/plain": [
              "1    81307\n",
              "0    38693\n",
              "dtype: int64"
            ]
          },
          "execution_count": 54,
          "metadata": {},
          "output_type": "execute_result"
        }
      ],
      "source": [
        "pd.value_counts(dt_train_preds)"
      ]
    },
    {
      "cell_type": "markdown",
      "metadata": {
        "id": "XnFehFaVS6O4"
      },
      "source": [
        "The decision tree also returns probabilities for each prediction."
      ]
    },
    {
      "cell_type": "code",
      "execution_count": 55,
      "metadata": {
        "id": "zDPoZ0sdS6O5"
      },
      "outputs": [],
      "source": [
        "dt_train_probs = dt_model.predict_proba(x_train)"
      ]
    },
    {
      "cell_type": "code",
      "execution_count": 56,
      "metadata": {
        "colab": {
          "base_uri": "https://localhost:8080/"
        },
        "id": "CGpuTZUgS6O5",
        "outputId": "5b222c7a-4a36-4321-e9a0-488d9eb27826"
      },
      "outputs": [
        {
          "data": {
            "text/plain": [
              "array([[1., 0.],\n",
              "       [0., 1.],\n",
              "       [0., 1.],\n",
              "       ...,\n",
              "       [0., 1.],\n",
              "       [0., 1.],\n",
              "       [0., 1.]])"
            ]
          },
          "execution_count": 56,
          "metadata": {},
          "output_type": "execute_result"
        }
      ],
      "source": [
        "dt_train_probs"
      ]
    },
    {
      "cell_type": "markdown",
      "metadata": {
        "id": "uGmR0Rs3S6O5"
      },
      "source": [
        "Seems like the decision tree is quite confident about its predictions.\n",
        "\n",
        "Let's check the accuracy of its predictions."
      ]
    },
    {
      "cell_type": "code",
      "execution_count": 57,
      "metadata": {
        "colab": {
          "base_uri": "https://localhost:8080/"
        },
        "id": "ebZkiEciS6O5",
        "outputId": "fa2fe592-71a4-4019-cce5-5dba2cdfebc4"
      },
      "outputs": [
        {
          "data": {
            "text/plain": [
              "1.0"
            ]
          },
          "execution_count": 57,
          "metadata": {},
          "output_type": "execute_result"
        }
      ],
      "source": [
        "accuracy_score(y_train, dt_train_preds)"
      ]
    },
    {
      "cell_type": "markdown",
      "metadata": {
        "id": "sxXqnV92S6O5"
      },
      "source": [
        "The training set accuracy is 100%! But we can't rely solely on the training set accuracy, we must evaluate the model on the validation set too. \n",
        "\n",
        "We can make predictions and compute accuracy in one step using `model.score`"
      ]
    },
    {
      "cell_type": "code",
      "execution_count": 58,
      "metadata": {
        "colab": {
          "base_uri": "https://localhost:8080/"
        },
        "id": "UGLBlo26S6O5",
        "outputId": "4f4e6f3f-398c-4f03-db49-b6c58d918b27"
      },
      "outputs": [
        {
          "data": {
            "text/plain": [
              "0.9771125"
            ]
          },
          "execution_count": 58,
          "metadata": {},
          "output_type": "execute_result"
        }
      ],
      "source": [
        "dt_model.score(x_val, y_val)"
      ]
    },
    {
      "cell_type": "markdown",
      "metadata": {
        "id": "gNYa4C3VS6O5"
      },
      "source": [
        "Although the training accuracy is 100%, the accuracy on the validation set is just about 97%, which is better before any hypertuning."
      ]
    },
    {
      "cell_type": "markdown",
      "metadata": {
        "id": "D1MRul6QS6O6"
      },
      "source": [
        "### Visualisation"
      ]
    },
    {
      "cell_type": "code",
      "execution_count": 59,
      "metadata": {
        "id": "KSks1FgsS6O6"
      },
      "outputs": [],
      "source": [
        "from sklearn.tree import plot_tree, export_text"
      ]
    },
    {
      "cell_type": "code",
      "execution_count": 60,
      "metadata": {
        "colab": {
          "base_uri": "https://localhost:8080/",
          "height": 501
        },
        "id": "N9sJbUH3S6O6",
        "outputId": "773424dd-e892-41f9-c2e5-e46e684833e8"
      },
      "outputs": [
        {
          "data": {
            "text/plain": [
              "[Text(0.5, 0.875, 'E9 <= 0.5\\ngini = 0.437\\nsamples = 120000\\nvalue = [38693, 81307]'),\n",
              " Text(0.25, 0.625, 'E7 <= 0.025\\ngini = 0.021\\nsamples = 16371\\nvalue = [16199, 172]'),\n",
              " Text(0.125, 0.375, 'E3 <= 0.125\\ngini = 0.488\\nsamples = 191\\nvalue = [110, 81]'),\n",
              " Text(0.0625, 0.125, '\\n  (...)  \\n'),\n",
              " Text(0.1875, 0.125, '\\n  (...)  \\n'),\n",
              " Text(0.375, 0.375, 'E6 <= 0.219\\ngini = 0.011\\nsamples = 16180\\nvalue = [16089, 91]'),\n",
              " Text(0.3125, 0.125, '\\n  (...)  \\n'),\n",
              " Text(0.4375, 0.125, '\\n  (...)  \\n'),\n",
              " Text(0.75, 0.625, 'V11 <= 0.012\\ngini = 0.34\\nsamples = 103629\\nvalue = [22494, 81135]'),\n",
              " Text(0.625, 0.375, 'E8 <= 0.167\\ngini = 0.486\\nsamples = 40149\\nvalue = [16759, 23390]'),\n",
              " Text(0.5625, 0.125, '\\n  (...)  \\n'),\n",
              " Text(0.6875, 0.125, '\\n  (...)  \\n'),\n",
              " Text(0.875, 0.375, 'V1 <= 0.008\\ngini = 0.164\\nsamples = 63480\\nvalue = [5735, 57745]'),\n",
              " Text(0.8125, 0.125, '\\n  (...)  \\n'),\n",
              " Text(0.9375, 0.125, '\\n  (...)  \\n')]"
            ]
          },
          "execution_count": 60,
          "metadata": {},
          "output_type": "execute_result"
        },
        {
          "data": {
            "image/png": "[encoded data removed]",
            "text/plain": [
              "<Figure size 5760x1440 with 1 Axes>"
            ]
          },
          "metadata": {
            "needs_background": "light"
          },
          "output_type": "display_data"
        }
      ],
      "source": [
        "plt.figure(figsize=(80,20))\n",
        "plot_tree(dt_model, feature_names=x_train.columns, max_depth=2, filled=True)"
      ]
    },
    {
      "cell_type": "code",
      "execution_count": 61,
      "metadata": {
        "colab": {
          "base_uri": "https://localhost:8080/"
        },
        "id": "7jAC_bvgS6O6",
        "outputId": "07480f0b-df61-4a64-834c-a34ef57ab4bb"
      },
      "outputs": [
        {
          "data": {
            "text/plain": [
              "44"
            ]
          },
          "execution_count": 61,
          "metadata": {},
          "output_type": "execute_result"
        }
      ],
      "source": [
        "dt_model.tree_.max_depth"
      ]
    },
    {
      "cell_type": "code",
      "execution_count": 62,
      "metadata": {
        "colab": {
          "base_uri": "https://localhost:8080/"
        },
        "id": "k1lJb0UnS6O6",
        "outputId": "58723417-fb21-4510-a906-c79ab3ca3672"
      },
      "outputs": [
        {
          "name": "stdout",
          "output_type": "stream",
          "text": [
            "|--- E9 <= 0.50\n",
            "|   |--- E7 <= 0.03\n",
            "|   |   |--- E3 <= 0.12\n",
            "|   |   |   |--- class: 0\n",
            "|   |   |--- E3 >  0.12\n",
            "|   |   |   |--- E5 <= 0.52\n",
            "|   |   |   |   |--- P7 <= 0.56\n",
            "|   |   |   |   |   |--- ObsNum <= 816.50\n",
            "|   |   |   |   |   |   |--- class: 1\n",
            "|   |   |   |   |   |--- ObsNum >  816.50\n",
            "|   |   |   |   |   |   |--- class: 0\n",
            "|   |   |   |   |--- P7 >  0.56\n",
            "|   |   |   |   |   |--- V8 <= 0.24\n",
            "|   |   |   |   |   |   |--- class: 1\n",
            "|   |   |   |   |   |--- V8 >  0.24\n",
            "|   |   |   |   |   |   |--- class: 0\n",
            "|   |   |   |--- E5 >  0.52\n",
            "|   |   |   |   |--- class: 0\n",
            "|   |--- E7 >  0.03\n",
            "|   |   |--- E6 <= 0.22\n",
            "|   |   |   |--- E8 <= 0.28\n",
            "|   |   |   |   |--- V2 <= 0.55\n",
            "|   |   |   |   |   |--- class: 0\n",
            "|   |   |   |   |--- V2 >  0.55\n",
            "|   |   |   |   |   |--- class: 1\n",
            "|   |   |   |--- E8 >  0.28\n",
            "|   |   |   |   |--- E6 <= 0.02\n",
            "|   |   |   |   |   |--- class: 1\n",
            "|   |   |   |   |--- E6 >  0.02\n",
            "|   |   |   |   |   |--- V6 <= 0.36\n",
            "|   |   |   |   |   |   |--- E8 <= 0.94\n",
            "|   |   |   |   |   |   |   |--- P7 <= 0.56\n",
            "|   |   |   |   |   |   |   |   |--- ObsNum <= 868.00\n",
            "|   |   |   |   |   |   |   |   |   |--- class: 0\n",
            "|   |   |   |   |   |   |   |   |--- ObsNum >  868.00\n",
            "|   |   |   |   |   |   |   |   |   |--- ObsNum <= 968.00\n",
            "|   |   |   |   |   |   |   |   |   |   |--- class: 1\n",
            "|   |   |   |   |   |   |   |   |   |--- ObsNum >  968.00\n",
            "|   |   |   |   |   |   |   |   |   |   |--- class: 0\n",
            "|   |   |   |   |   |   |   |--- P7 >  0.56\n",
            "|   |   |   |   |   |   |   |   |--- V6 <= 0.33\n",
            "|   |   |   |   |   |   |   |   |   |--- class: 0\n",
            "|   |   |   |   |   |   |   |   |--- V6 >  0.33\n",
            "|   |   |   |   |   |   |   |   |   |--- class: 1\n",
            "|   |   |   |   |   |   |--- E8 >  0.94\n",
            "|   |   |   |   |   |   |   |--- class: 1\n",
            "|   |   |   |   |   |--- V6 >  0.36\n",
            "|   |   |   |   |   |   |--- V8 <= 0.27\n",
            "|   |   |   |   |   |   |   |--- class: 1\n",
            "|   |   |   |   |   |   |--- V8 >  0.27\n",
            "|   |   |   |   |   |   |   |--- class: 0\n",
            "|   |   |--- E6 >  0.22\n",
            "|   |   |   |--- E11 <= 0.69\n",
            "|   |   |   |   |--- E5 <= 0.06\n",
            "|   |   |   |   |   |--- V4 <= 0.41\n",
            "|   |   |   |   |   |   |--- class: 0\n",
            "|   |   |   |   |   |--- V4 >  0.41\n",
            "|   |   |   |   |   |   |--- class: 1\n",
            "|   |   |   |   |--- E5 >  0.06\n",
            "|   |   |   |   |   |--- P5 <= 0.62\n",
            "|   |   |   |   |   |   |--- class: 0\n",
            "|   |   |   |   |   |--- P5 >  0.62\n",
            "|   |   |   |   |   |   |--- E8 <= 0.28\n",
            "|   |   |   |   |   |   |   |--- E7 <= 0.08\n",
            "|   |   |   |   |   |   |   |   |--- P1 <= 0.48\n",
            "|   |   |   |   |   |   |   |   |   |--- E5 <= 0.44\n",
            "|   |   |   |   |   |   |   |   |   |   |--- class: 0\n",
            "|   |   |   |   |   |   |   |   |   |--- E5 >  0.44\n",
            "|   |   |   |   |   |   |   |   |   |   |--- class: 1\n",
            "|   |   |   |   |   |   |   |   |--- P1 >  0.48\n",
            "|   |   |   |   |   |   |   |   |   |--- class: 0\n",
            "|   |   |   |   |   |   |   |--- E7 >  0.08\n",
            "|   |   |   |   |   |   |   |   |--- class: 0\n",
            "|   |   |   |   |   |   |--- E8 >  0.28\n",
            "|   |   |   |   |   |   |   |--- E7 <= 0.62\n",
            "|   |   |   |   |   |   |   |   |--- class: 0\n",
            "|   |   |   |   |   |   |   |--- E7 >  0.62\n",
            "|   |   |   |   |   |   |   |   |--- class: 1\n",
            "|   |   |   |--- E11 >  0.69\n",
            "|   |   |   |   |--- E6 <= 0.44\n",
            "|   |   |   |   |   |--- class: 1\n",
            "|   |   |   |   |--- E6 >  0.44\n",
            "|   |   |   |   |   |--- class: 0\n",
            "|--- E9 >  0.50\n",
            "|   |--- V11 <= 0.01\n",
            "|   |   |--- E8 <= 0.17\n",
            "|   |   |   |--- P7 <= 0.24\n",
            "|   |   |   |   |--- E10 <= 0.29\n",
            "|   |   |   |   |   |--- E5 <= 0.36\n",
            "|   |   |   |   |   |   |--- class: 1\n",
            "|   |   |   |   |   |--- E5 >  0.36\n",
            "|   |   |   |   |   |   |--- class: 0\n",
            "|   |   |   |   |--- E10 >  0.29\n",
            "|   |   |   |   |   |--- E4 <= 0.52\n",
            "|   |   |   |   |   |   |--- P7 <= 0.23\n",
            "|   |   |   |   |   |   |   |--- E10 <= 0.50\n",
            "|   |   |   |   |   |   |   |   |--- V8 <= 0.55\n",
            "|   |   |   |   |   |   |   |   |   |--- E1 <= 0.46\n",
            "|   |   |   |   |   |   |   |   |   |   |--- E6 <= 0.29\n",
            "|   |   |   |   |   |   |   |   |   |   |   |--- truncated branch of depth 2\n",
            "|   |   |   |   |   |   |   |   |   |   |--- E6 >  0.29\n",
            "|   |   |   |   |   |   |   |   |   |   |   |--- truncated branch of depth 8\n",
            "|   |   |   |   |   |   |   |   |   |--- E1 >  0.46\n",
            "|   |   |   |   |   |   |   |   |   |   |--- E1 <= 0.46\n",
            "|   |   |   |   |   |   |   |   |   |   |   |--- class: 0\n",
            "|   |   |   |   |   |   |   |   |   |   |--- E1 >  0.46\n",
            "|   |   |   |   |   |   |   |   |   |   |   |--- truncated branch of depth 4\n",
            "|   |   |   |   |   |   |   |   |--- V8 >  0.55\n",
            "|   |   |   |   |   |   |   |   |   |--- P5 <= 0.14\n",
            "|   |   |   |   |   |   |   |   |   |   |--- V6 <= 0.39\n",
            "|   |   |   |   |   |   |   |   |   |   |   |--- class: 0\n",
            "|   |   |   |   |   |   |   |   |   |   |--- V6 >  0.39\n",
            "|   |   |   |   |   |   |   |   |   |   |   |--- class: 1\n",
            "|   |   |   |   |   |   |   |   |   |--- P5 >  0.14\n",
            "|   |   |   |   |   |   |   |   |   |   |--- E2 <= 0.96\n",
            "|   |   |   |   |   |   |   |   |   |   |   |--- class: 1\n",
            "|   |   |   |   |   |   |   |   |   |   |--- E2 >  0.96\n",
            "|   |   |   |   |   |   |   |   |   |   |   |--- class: 0\n",
            "|   |   |   |   |   |   |   |--- E10 >  0.50\n",
            "|   |   |   |   |   |   |   |   |--- E6 <= 0.39\n",
            "\n"
          ]
        }
      ],
      "source": [
        "tree_text = export_text(dt_model, max_depth=10, feature_names=list(x_train.columns))\n",
        "print(tree_text[:5000])"
      ]
    },
    {
      "cell_type": "code",
      "execution_count": 63,
      "metadata": {
        "colab": {
          "base_uri": "https://localhost:8080/"
        },
        "id": "UZYaIUTeS6O6",
        "outputId": "286d2213-2695-440f-a0f8-7be13e80bdcc"
      },
      "outputs": [
        {
          "data": {
            "text/plain": [
              "array([3.88315417e-02, 3.29124337e-02, 2.94254653e-03, 6.49319079e-03,\n",
              "       5.67958702e-03, 2.23774880e-02, 9.75007561e-03, 2.44697807e-02,\n",
              "       1.58062417e-02, 2.86205570e-02, 1.14326632e-03, 1.83329899e-02,\n",
              "       4.82002555e-02, 2.79120373e-02, 5.95101352e-03, 8.97252482e-02,\n",
              "       3.21747639e-01, 4.03106513e-02, 2.56236753e-03, 4.42865636e-02,\n",
              "       8.36386676e-03, 2.92265899e-03, 1.45874365e-02, 2.81445678e-04,\n",
              "       1.80778678e-02, 1.19720118e-02, 4.25939314e-04, 1.55313298e-01])"
            ]
          },
          "execution_count": 63,
          "metadata": {},
          "output_type": "execute_result"
        }
      ],
      "source": [
        "dt_model.feature_importances_"
      ]
    },
    {
      "cell_type": "code",
      "execution_count": 64,
      "metadata": {
        "id": "U3fDKaDpS6O7"
      },
      "outputs": [],
      "source": [
        "importance_df = pd.DataFrame({\n",
        "    'feature': x_train.columns,\n",
        "    'importance': dt_model.feature_importances_\n",
        "}).sort_values('importance', ascending=False)"
      ]
    },
    {
      "cell_type": "code",
      "execution_count": 65,
      "metadata": {
        "colab": {
          "base_uri": "https://localhost:8080/",
          "height": 363
        },
        "id": "k_6k5bBsS6O7",
        "outputId": "7600e6b7-fb56-4092-8c17-7be2708b6ab4"
      },
      "outputs": [
        {
          "data": {
            "text/html": [
              "\n",
              "  <div id=\"df-6f882ee8-8a92-4135-9397-cc201ea4482d\">\n",
              "    <div class=\"colab-df-container\">\n",
              "      <div>\n",
              "<style scoped>\n",
              "    .dataframe tbody tr th:only-of-type {\n",
              "        vertical-align: middle;\n",
              "    }\n",
              "\n",
              "    .dataframe tbody tr th {\n",
              "        vertical-align: top;\n",
              "    }\n",
              "\n",
              "    .dataframe thead th {\n",
              "        text-align: right;\n",
              "    }\n",
              "</style>\n",
              "<table border=\"1\" class=\"dataframe\">\n",
              "  <thead>\n",
              "    <tr style=\"text-align: right;\">\n",
              "      <th></th>\n",
              "      <th>feature</th>\n",
              "      <th>importance</th>\n",
              "    </tr>\n",
              "  </thead>\n",
              "  <tbody>\n",
              "    <tr>\n",
              "      <th>16</th>\n",
              "      <td>E9</td>\n",
              "      <td>0.321748</td>\n",
              "    </tr>\n",
              "    <tr>\n",
              "      <th>27</th>\n",
              "      <td>V11</td>\n",
              "      <td>0.155313</td>\n",
              "    </tr>\n",
              "    <tr>\n",
              "      <th>15</th>\n",
              "      <td>E8</td>\n",
              "      <td>0.089725</td>\n",
              "    </tr>\n",
              "    <tr>\n",
              "      <th>12</th>\n",
              "      <td>E5</td>\n",
              "      <td>0.048200</td>\n",
              "    </tr>\n",
              "    <tr>\n",
              "      <th>19</th>\n",
              "      <td>V1</td>\n",
              "      <td>0.044287</td>\n",
              "    </tr>\n",
              "    <tr>\n",
              "      <th>17</th>\n",
              "      <td>E10</td>\n",
              "      <td>0.040311</td>\n",
              "    </tr>\n",
              "    <tr>\n",
              "      <th>0</th>\n",
              "      <td>ObsNum</td>\n",
              "      <td>0.038832</td>\n",
              "    </tr>\n",
              "    <tr>\n",
              "      <th>1</th>\n",
              "      <td>P1</td>\n",
              "      <td>0.032912</td>\n",
              "    </tr>\n",
              "    <tr>\n",
              "      <th>9</th>\n",
              "      <td>E2</td>\n",
              "      <td>0.028621</td>\n",
              "    </tr>\n",
              "    <tr>\n",
              "      <th>13</th>\n",
              "      <td>E6</td>\n",
              "      <td>0.027912</td>\n",
              "    </tr>\n",
              "  </tbody>\n",
              "</table>\n",
              "</div>\n",
              "      <button class=\"colab-df-convert\" onclick=\"convertToInteractive('df-6f882ee8-8a92-4135-9397-cc201ea4482d')\"\n",
              "              title=\"Convert this dataframe to an interactive table.\"\n",
              "              style=\"display:none;\">\n",
              "        \n",
              "  <svg xmlns=\"http://www.w3.org/2000/svg\" height=\"24px\"viewBox=\"0 0 24 24\"\n",
              "       width=\"24px\">\n",
              "    <path d=\"M0 0h24v24H0V0z\" fill=\"none\"/>\n",
              "    <path d=\"M18.56 5.44l.94 2.06.94-2.06 2.06-.94-2.06-.94-.94-2.06-.94 2.06-2.06.94zm-11 1L8.5 8.5l.94-2.06 2.06-.94-2.06-.94L8.5 2.5l-.94 2.06-2.06.94zm10 10l.94 2.06.94-2.06 2.06-.94-2.06-.94-.94-2.06-.94 2.06-2.06.94z\"/><path d=\"M17.41 7.96l-1.37-1.37c-.4-.4-.92-.59-1.43-.59-.52 0-1.04.2-1.43.59L10.3 9.45l-7.72 7.72c-.78.78-.78 2.05 0 2.83L4 21.41c.39.39.9.59 1.41.59.51 0 1.02-.2 1.41-.59l7.78-7.78 2.81-2.81c.8-.78.8-2.07 0-2.86zM5.41 20L4 18.59l7.72-7.72 1.47 1.35L5.41 20z\"/>\n",
              "  </svg>\n",
              "      </button>\n",
              "      \n",
              "  <style>\n",
              "    .colab-df-container {\n",
              "      display:flex;\n",
              "      flex-wrap:wrap;\n",
              "      gap: 12px;\n",
              "    }\n",
              "\n",
              "    .colab-df-convert {\n",
              "      background-color: #E8F0FE;\n",
              "      border: none;\n",
              "      border-radius: 50%;\n",
              "      cursor: pointer;\n",
              "      display: none;\n",
              "      fill: #1967D2;\n",
              "      height: 32px;\n",
              "      padding: 0 0 0 0;\n",
              "      width: 32px;\n",
              "    }\n",
              "\n",
              "    .colab-df-convert:hover {\n",
              "      background-color: #E2EBFA;\n",
              "      box-shadow: 0px 1px 2px rgba(60, 64, 67, 0.3), 0px 1px 3px 1px rgba(60, 64, 67, 0.15);\n",
              "      fill: #174EA6;\n",
              "    }\n",
              "\n",
              "    [theme=dark] .colab-df-convert {\n",
              "      background-color: #3B4455;\n",
              "      fill: #D2E3FC;\n",
              "    }\n",
              "\n",
              "    [theme=dark] .colab-df-convert:hover {\n",
              "      background-color: #434B5C;\n",
              "      box-shadow: 0px 1px 3px 1px rgba(0, 0, 0, 0.15);\n",
              "      filter: drop-shadow(0px 1px 2px rgba(0, 0, 0, 0.3));\n",
              "      fill: #FFFFFF;\n",
              "    }\n",
              "  </style>\n",
              "\n",
              "      <script>\n",
              "        const buttonEl =\n",
              "          document.querySelector('#df-6f882ee8-8a92-4135-9397-cc201ea4482d button.colab-df-convert');\n",
              "        buttonEl.style.display =\n",
              "          google.colab.kernel.accessAllowed ? 'block' : 'none';\n",
              "\n",
              "        async function convertToInteractive(key) {\n",
              "          const element = document.querySelector('#df-6f882ee8-8a92-4135-9397-cc201ea4482d');\n",
              "          const dataTable =\n",
              "            await google.colab.kernel.invokeFunction('convertToInteractive',\n",
              "                                                     [key], {});\n",
              "          if (!dataTable) return;\n",
              "\n",
              "          const docLinkHtml = 'Like what you see? Visit the ' +\n",
              "            '<a target=\"_blank\" href=https://colab.research.google.com/notebooks/data_table.ipynb>data table notebook</a>'\n",
              "            + ' to learn more about interactive tables.';\n",
              "          element.innerHTML = '';\n",
              "          dataTable['output_type'] = 'display_data';\n",
              "          await google.colab.output.renderOutput(dataTable, element);\n",
              "          const docLink = document.createElement('div');\n",
              "          docLink.innerHTML = docLinkHtml;\n",
              "          element.appendChild(docLink);\n",
              "        }\n",
              "      </script>\n",
              "    </div>\n",
              "  </div>\n",
              "  "
            ],
            "text/plain": [
              "   feature  importance\n",
              "16      E9    0.321748\n",
              "27     V11    0.155313\n",
              "15      E8    0.089725\n",
              "12      E5    0.048200\n",
              "19      V1    0.044287\n",
              "17     E10    0.040311\n",
              "0   ObsNum    0.038832\n",
              "1       P1    0.032912\n",
              "9       E2    0.028621\n",
              "13      E6    0.027912"
            ]
          },
          "execution_count": 65,
          "metadata": {},
          "output_type": "execute_result"
        }
      ],
      "source": [
        "importance_df.head(10)"
      ]
    },
    {
      "cell_type": "code",
      "execution_count": 66,
      "metadata": {
        "colab": {
          "base_uri": "https://localhost:8080/",
          "height": 295
        },
        "id": "XgTJSH02S6O7",
        "outputId": "07e68c15-2375-43d3-fc8a-c6e4414428d3"
      },
      "outputs": [
        {
          "data": {
            "image/png": "[encoded data removed]",
            "text/plain": [
              "<Figure size 432x288 with 1 Axes>"
            ]
          },
          "metadata": {
            "needs_background": "light"
          },
          "output_type": "display_data"
        }
      ],
      "source": [
        "plt.title('Feature Importance')\n",
        "sns.barplot(data=importance_df.head(10), x='importance', y='feature');"
      ]
    },
    {
      "cell_type": "markdown",
      "metadata": {
        "id": "j2APYjeRS6O7"
      },
      "source": [
        "Hypertuning the decision tree"
      ]
    },
    {
      "cell_type": "code",
      "execution_count": 67,
      "metadata": {
        "id": "5JYIYNrhS6O7"
      },
      "outputs": [],
      "source": [
        "?DecisionTreeClassifier"
      ]
    },
    {
      "cell_type": "markdown",
      "metadata": {
        "id": "tAupLVEiS6O7"
      },
      "source": [
        "Validation Graph"
      ]
    },
    {
      "cell_type": "code",
      "execution_count": 68,
      "metadata": {
        "id": "NKVDEpNoS6O7"
      },
      "outputs": [],
      "source": [
        "def max_depth_error(md):\n",
        "    model = DecisionTreeClassifier(max_depth=md, random_state=42)\n",
        "    model.fit(x_train, y_train)\n",
        "    train_acc = 1 - model.score(x_train, y_train)\n",
        "    val_acc = 1 - model.score(x_val, y_val)\n",
        "    return {'Max Depth': md, 'Training Error': train_acc, 'Validation Error': val_acc}"
      ]
    },
    {
      "cell_type": "code",
      "execution_count": null,
      "metadata": {
        "id": "10KclCtfS6O8"
      },
      "outputs": [],
      "source": [
        "%%time\n",
        "errors_df = pd.DataFrame([max_depth_error(md) for md in range(1, 51)])"
      ]
    },
    {
      "cell_type": "code",
      "execution_count": null,
      "metadata": {
        "id": "g73V157HS6O8"
      },
      "outputs": [],
      "source": [
        "errors_df"
      ]
    },
    {
      "cell_type": "code",
      "execution_count": null,
      "metadata": {
        "id": "utkNdkp1S6O8"
      },
      "outputs": [],
      "source": [
        "plt.figure()\n",
        "plt.plot(errors_df['Max Depth'], errors_df['Training Error'])\n",
        "plt.plot(errors_df['Max Depth'], errors_df['Validation Error'])\n",
        "plt.title('Training vs. Validation Error')\n",
        "plt.xticks(range(0,21, 2))\n",
        "plt.xlabel('Max. Depth')\n",
        "plt.ylabel('Prediction Error (1 - Accuracy)')\n",
        "plt.legend(['Training', 'Validation'])"
      ]
    },
    {
      "cell_type": "code",
      "execution_count": null,
      "metadata": {
        "id": "xt7gJ6nKS6O8"
      },
      "outputs": [],
      "source": [
        "model = DecisionTreeClassifier(max_depth=45, random_state=42).fit(x_train, y_train)\n",
        "model.score(x_val, y_val)"
      ]
    },
    {
      "cell_type": "markdown",
      "metadata": {
        "id": "DxMXM-sJS6O8"
      },
      "source": [
        "#### After comparing the two models, we can see that the random forest model is much better than the decision tree model with a better accuracy of 98.8% on the validation set."
      ]
    },
    {
      "cell_type": "markdown",
      "metadata": {
        "id": "6Yk4C9g6S6O9"
      },
      "source": [
        "Now let's run the random forest model on test dataset and check the accuracy with the predictions in solution dataset given."
      ]
    },
    {
      "cell_type": "code",
      "execution_count": null,
      "metadata": {
        "id": "EgrPecYvS6O9"
      },
      "outputs": [],
      "source": [
        "test"
      ]
    },
    {
      "cell_type": "code",
      "execution_count": null,
      "metadata": {
        "id": "1KLnxIxCS6O9"
      },
      "outputs": [],
      "source": [
        "# lets drop the columns that are not important\n",
        "test = test.drop(columns=[\"TrialID\",\"V7\",\"V9\",\"P8\", \"IsAlert\"], axis=1)"
      ]
    },
    {
      "cell_type": "code",
      "execution_count": null,
      "metadata": {
        "id": "iL6dcu0IS6O9"
      },
      "outputs": [],
      "source": [
        "model = RandomForestClassifier(random_state=42, n_jobs=-1).fit(x_train,y_train)"
      ]
    },
    {
      "cell_type": "code",
      "execution_count": null,
      "metadata": {
        "id": "if3l_GWBS6O9"
      },
      "outputs": [],
      "source": [
        "train_preds = model.predict(x_train)"
      ]
    },
    {
      "cell_type": "code",
      "execution_count": null,
      "metadata": {
        "id": "ixnHRLPRS6O9"
      },
      "outputs": [],
      "source": [
        "train_preds"
      ]
    },
    {
      "cell_type": "code",
      "execution_count": null,
      "metadata": {
        "id": "uZdAVBpDS6O9"
      },
      "outputs": [],
      "source": [
        "accuracy_score(y_train, train_preds)"
      ]
    },
    {
      "cell_type": "code",
      "execution_count": null,
      "metadata": {
        "id": "6jhcON0rS6O-"
      },
      "outputs": [],
      "source": [
        "# scale the test data\n",
        "scaler.fit(test[req_col])"
      ]
    },
    {
      "cell_type": "code",
      "execution_count": null,
      "metadata": {
        "id": "KHA1nrJjS6O-"
      },
      "outputs": [],
      "source": [
        "test[req_col] = scaler.transform(test[req_col])"
      ]
    },
    {
      "cell_type": "code",
      "execution_count": null,
      "metadata": {
        "id": "9MzyV9rNS6O-"
      },
      "outputs": [],
      "source": [
        "# predict the test data\n",
        "test_preds = model.predict(test)"
      ]
    },
    {
      "cell_type": "code",
      "execution_count": null,
      "metadata": {
        "id": "KbE0CW_IS6O-"
      },
      "outputs": [],
      "source": [
        "test_preds"
      ]
    },
    {
      "cell_type": "code",
      "execution_count": null,
      "metadata": {
        "id": "u_YuoZ7TS6O-"
      },
      "outputs": [],
      "source": [
        "# now let's create a solution dataframe to store the predicted values\n",
        "sol_df = pd.read_csv(\"./stayalert/Solution.csv\")\n",
        "sol_df = sol_df['Prediction'][:20000]"
      ]
    },
    {
      "cell_type": "code",
      "execution_count": null,
      "metadata": {
        "id": "E2ihF7bOS6O-"
      },
      "outputs": [],
      "source": [
        "accuracy_score(sol_df, test_preds)"
      ]
    },
    {
      "cell_type": "code",
      "execution_count": null,
      "metadata": {
        "id": "OcyORvIuS6O_"
      },
      "outputs": [],
      "source": []
    }
  ],
  "metadata": {
    "colab": {
      "provenance": []
    },
    "interpreter": {
      "hash": "e2fb31f127fed1e79f709faf34890f85681c06e7e30d28a328e5c7500cdf6725"
    },
    "kernelspec": {
      "display_name": "Python 3.7.8 64-bit",
      "name": "python3"
    },
    "language_info": {
      "codemirror_mode": {
        "name": "ipython",
        "version": 3
      },
      "file_extension": ".py",
      "mimetype": "text/x-python",
      "name": "python",
      "nbconvert_exporter": "python",
      "pygments_lexer": "ipython3",
      "version": "3.7.8"
    },
    "orig_nbformat": 4
  },
  "nbformat": 4,
  "nbformat_minor": 0
}
